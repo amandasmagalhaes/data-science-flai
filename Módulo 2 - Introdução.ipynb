{
  "nbformat": 4,
  "nbformat_minor": 0,
  "metadata": {
    "colab": {
      "name": "Módulo 2 - Introdução.ipynb",
      "provenance": [],
      "collapsed_sections": [],
      "authorship_tag": "ABX9TyNYQ7I/FTVIG4ORKAwKvsPp",
      "include_colab_link": true
    },
    "kernelspec": {
      "name": "python3",
      "display_name": "Python 3"
    }
  },
  "cells": [
    {
      "cell_type": "markdown",
      "metadata": {
        "id": "view-in-github",
        "colab_type": "text"
      },
      "source": [
        "<a href=\"https://colab.research.google.com/github/amandasmagalhaes/data-science-flai/blob/main/M%C3%B3dulo%202%20-%20Introdu%C3%A7%C3%A3o.ipynb\" target=\"_parent\"><img src=\"https://colab.research.google.com/assets/colab-badge.svg\" alt=\"Open In Colab\"/></a>"
      ]
    },
    {
      "cell_type": "markdown",
      "metadata": {
        "id": "HGBnxP2x-ZAx"
      },
      "source": [
        "# **Primeiro Notebook**"
      ]
    },
    {
      "cell_type": "code",
      "metadata": {
        "colab": {
          "base_uri": "https://localhost:8080/"
        },
        "id": "YHAwhNMM9S-u",
        "outputId": "b61a5153-489e-4060-fdf1-f1a3dfb8da27"
      },
      "source": [
        "print('Hello Word!')"
      ],
      "execution_count": 1,
      "outputs": [
        {
          "output_type": "stream",
          "text": [
            "Hello Word!\n"
          ],
          "name": "stdout"
        }
      ]
    },
    {
      "cell_type": "markdown",
      "metadata": {
        "id": "X5NydFHK-j68"
      },
      "source": [
        "## **Atribuição de Variáveis**"
      ]
    },
    {
      "cell_type": "code",
      "metadata": {
        "id": "b4F_3dNs-h4V"
      },
      "source": [
        "meunome = 'Amanda'\n",
        "sobrenome = 'Silva'"
      ],
      "execution_count": 2,
      "outputs": []
    },
    {
      "cell_type": "code",
      "metadata": {
        "id": "v2a0ev2Z-0IE"
      },
      "source": [
        "nome, sobrenome, idade = 'Amanda', 'Silva', 22"
      ],
      "execution_count": 3,
      "outputs": []
    },
    {
      "cell_type": "code",
      "metadata": {
        "id": "uinfwHf0_EBm",
        "colab": {
          "base_uri": "https://localhost:8080/"
        },
        "outputId": "a4923214-1bb2-42e8-a8ab-5c89f25957c8"
      },
      "source": [
        "frase = 'O nome da aluna é {} {}, e disse que tem {} anos.'.format(nome, sobrenome, idade)\r\n",
        "print(frase)"
      ],
      "execution_count": 4,
      "outputs": [
        {
          "output_type": "stream",
          "text": [
            "O nome da aluna é Amanda Silva, e disse que tem 22 anos.\n"
          ],
          "name": "stdout"
        }
      ]
    },
    {
      "cell_type": "code",
      "metadata": {
        "id": "O7BBRg9u_tcM"
      },
      "source": [
        "meu_nome = 'Amanda'"
      ],
      "execution_count": 5,
      "outputs": []
    },
    {
      "cell_type": "markdown",
      "metadata": {
        "id": "uivolVdPAcez"
      },
      "source": [
        "## **Aritmética**"
      ]
    },
    {
      "cell_type": "code",
      "metadata": {
        "id": "JecrN5F-AXK9"
      },
      "source": [
        "a, b = 7, 2"
      ],
      "execution_count": 6,
      "outputs": []
    },
    {
      "cell_type": "code",
      "metadata": {
        "colab": {
          "base_uri": "https://localhost:8080/"
        },
        "id": "v6mUrEtIA1Df",
        "outputId": "6def2346-d11f-4f7c-bd61-290caedd9c6c"
      },
      "source": [
        "print ('a + b =', a + b)\n",
        "print ('a - b =', a - b)\n",
        "print ('a * b =', a * b)\n",
        "print ('a / b =', a / b)\n",
        "print ('a ^ b =', a ** b)\n",
        "\n",
        "print ('Divisao inteira de a por b =', a // b)\n",
        "print ('Resto da divisao de a por b =', a % b)"
      ],
      "execution_count": 7,
      "outputs": [
        {
          "output_type": "stream",
          "text": [
            "a + b = 9\n",
            "a - b = 5\n",
            "a * b = 14\n",
            "a / b = 3.5\n",
            "a ^ b = 49\n",
            "Divisao inteira de a por b = 3\n",
            "Resto da divisao de a por b = 1\n"
          ],
          "name": "stdout"
        }
      ]
    },
    {
      "cell_type": "markdown",
      "metadata": {
        "id": "JhpoeDmgBcky"
      },
      "source": [
        "## **Booleanos**"
      ]
    },
    {
      "cell_type": "code",
      "metadata": {
        "colab": {
          "base_uri": "https://localhost:8080/"
        },
        "id": "Ji9i5j9bA420",
        "outputId": "b2fde591-e290-4e9e-833b-7acd17fd5ef5"
      },
      "source": [
        "print(a)\r\n",
        "print(b)"
      ],
      "execution_count": 8,
      "outputs": [
        {
          "output_type": "stream",
          "text": [
            "7\n",
            "2\n"
          ],
          "name": "stdout"
        }
      ]
    },
    {
      "cell_type": "code",
      "metadata": {
        "colab": {
          "base_uri": "https://localhost:8080/"
        },
        "id": "8uiVUpCTBg8a",
        "outputId": "89b6ebda-7cc9-44a4-b106-cc987e02f197"
      },
      "source": [
        "a > 3 and b > 1"
      ],
      "execution_count": 9,
      "outputs": [
        {
          "output_type": "execute_result",
          "data": {
            "text/plain": [
              "True"
            ]
          },
          "metadata": {
            "tags": []
          },
          "execution_count": 9
        }
      ]
    },
    {
      "cell_type": "code",
      "metadata": {
        "colab": {
          "base_uri": "https://localhost:8080/"
        },
        "id": "jjt9IlUkBwTk",
        "outputId": "64861666-41fa-4b5b-dbc7-398b624f799b"
      },
      "source": [
        "True or False"
      ],
      "execution_count": 10,
      "outputs": [
        {
          "output_type": "execute_result",
          "data": {
            "text/plain": [
              "True"
            ]
          },
          "metadata": {
            "tags": []
          },
          "execution_count": 10
        }
      ]
    },
    {
      "cell_type": "code",
      "metadata": {
        "colab": {
          "base_uri": "https://localhost:8080/"
        },
        "id": "xRp06araCESF",
        "outputId": "2da8584d-dcae-4c5a-8ac0-cde870a1fc31"
      },
      "source": [
        "True and True"
      ],
      "execution_count": 11,
      "outputs": [
        {
          "output_type": "execute_result",
          "data": {
            "text/plain": [
              "True"
            ]
          },
          "metadata": {
            "tags": []
          },
          "execution_count": 11
        }
      ]
    },
    {
      "cell_type": "code",
      "metadata": {
        "colab": {
          "base_uri": "https://localhost:8080/"
        },
        "id": "aTAnG8WiCRVU",
        "outputId": "a55c9c37-fda3-4c5f-da28-69daa7c307d6"
      },
      "source": [
        "not True"
      ],
      "execution_count": 12,
      "outputs": [
        {
          "output_type": "execute_result",
          "data": {
            "text/plain": [
              "False"
            ]
          },
          "metadata": {
            "tags": []
          },
          "execution_count": 12
        }
      ]
    },
    {
      "cell_type": "code",
      "metadata": {
        "colab": {
          "base_uri": "https://localhost:8080/"
        },
        "id": "mA3A0dAICbgk",
        "outputId": "72959a1c-f70d-4852-b857-ea5fd14e6629"
      },
      "source": [
        "not False"
      ],
      "execution_count": 13,
      "outputs": [
        {
          "output_type": "execute_result",
          "data": {
            "text/plain": [
              "True"
            ]
          },
          "metadata": {
            "tags": []
          },
          "execution_count": 13
        }
      ]
    },
    {
      "cell_type": "markdown",
      "metadata": {
        "id": "ljnXBs1OClEH"
      },
      "source": [
        "## **Condicionais**"
      ]
    },
    {
      "cell_type": "markdown",
      "metadata": {
        "id": "NXoJ_ud1AMQz"
      },
      "source": [
        "**IF - ELIF - ELSE**\r\n",
        "\r\n",
        "if condicao_se_verdadeira:  \r\n",
        "> executa aqui\r\n",
        "> executa aqui   \r\n",
        "\r\n",
        "elif condicao_alterativa:  \r\n",
        "> executa aqui  \r\n",
        "\r\n",
        "else condicao_nao_verdadeira: #caso nenhuma das condicoes sejam satisfeitas  \r\n",
        "> executa aqui  "
      ]
    },
    {
      "cell_type": "code",
      "metadata": {
        "colab": {
          "base_uri": "https://localhost:8080/"
        },
        "id": "c2GZ_PhqD04W",
        "outputId": "5cf1e197-f323-43b9-da5a-a8cba2dfc7aa"
      },
      "source": [
        "a, b, c = -1, -1, 1\n",
        "\n",
        "delta = b**2 - 4*a*c\n",
        "delta\n",
        "\n",
        "if delta > 0:\n",
        "  print ('Essa equação possui duas raizes reais.')\n",
        "  x1 = (-b + delta**(1/2)) / (2*a)\n",
        "  x2 = (-b - delta**(1/2)) / (2*a)\n",
        "  print ('A raíz 1 é:' , round(x1, 2))\n",
        "  print ('A raíz 2 é:' , round(x2, 2))\n",
        "\n",
        "elif delta == 0:\n",
        "  print ('Essa equação possui uma raíz real.')\n",
        "  x = -b / (2*a)\n",
        "  print ('A raíz é:' , round(x, 2))\n",
        "\n",
        "else:\n",
        "  print ('Essa equação não possui raízes reais')"
      ],
      "execution_count": 18,
      "outputs": [
        {
          "output_type": "stream",
          "text": [
            "Essa equação possui duas raizes reais.\n",
            "A raíz 1 é: -1.62\n",
            "A raíz 2 é: 0.62\n"
          ],
          "name": "stdout"
        }
      ]
    },
    {
      "cell_type": "markdown",
      "metadata": {
        "id": "Lt1a8r6mGYBD"
      },
      "source": [
        "## **Definindo Funções Próprias**"
      ]
    },
    {
      "cell_type": "code",
      "metadata": {
        "id": "f8AItK84EzPe"
      },
      "source": [
        "def MinhaFuncao(nome, tamanho = 17): \n",
        "  print('*' * tamanho)\n",
        "  print('*' * tamanho)\n",
        "  print('Meu nome é {}'. format(nome))\n",
        "  print('*' * tamanho)\n",
        "  print('*' * tamanho)"
      ],
      "execution_count": 23,
      "outputs": []
    },
    {
      "cell_type": "code",
      "metadata": {
        "colab": {
          "base_uri": "https://localhost:8080/"
        },
        "id": "pS1pYnGiGpk3",
        "outputId": "7117e0cd-9b68-4ccd-b6c9-c3d06cf8aa4a"
      },
      "source": [
        "MinhaFuncao(nome = 'Amanda')"
      ],
      "execution_count": 24,
      "outputs": [
        {
          "output_type": "stream",
          "text": [
            "*****************\n",
            "*****************\n",
            "Meu nome é Amanda\n",
            "*****************\n",
            "*****************\n"
          ],
          "name": "stdout"
        }
      ]
    },
    {
      "cell_type": "code",
      "metadata": {
        "id": "X5pOm0ZfG8OE"
      },
      "source": [
        "def Bhaskara(a, b, c): \n",
        "\n",
        "  delta = b**2 - 4*a*c\n",
        "\n",
        "  if delta > 0:\n",
        "    print ('Essa equação possui duas raízes reais.')\n",
        "    x1 = (-b + delta**(1/2)) / (2*a)\n",
        "    x2 = (-b - delta**(1/2)) / (2*a)\n",
        "    print ('A raíz 1 é:' , round(x1, 2))\n",
        "    print ('A raíz 2 é:' , round(x2, 2))\n",
        "\n",
        "  elif delta == 0:\n",
        "    print ('Essa equação possui uma raíz real.')\n",
        "    x = -b / (2*a)\n",
        "    print ('A raíz 1 é:' , round(x, 2))\n",
        "\n",
        "  else:\n",
        "    print ('Essa equação não possui raízes reais')"
      ],
      "execution_count": 26,
      "outputs": []
    },
    {
      "cell_type": "code",
      "metadata": {
        "colab": {
          "base_uri": "https://localhost:8080/"
        },
        "id": "5UhdbZFkIKJl",
        "outputId": "3d94e3ea-ad4f-4afa-b793-28b277c08b89"
      },
      "source": [
        "Bhaskara(a = 1, b = -2, c = 1)"
      ],
      "execution_count": 27,
      "outputs": [
        {
          "output_type": "stream",
          "text": [
            "Essa equação possui uma raíz real.\n",
            "A raíz 1 é: 1.0\n"
          ],
          "name": "stdout"
        }
      ]
    },
    {
      "cell_type": "code",
      "metadata": {
        "colab": {
          "base_uri": "https://localhost:8080/"
        },
        "id": "eflWQodWIOck",
        "outputId": "853f132f-e44b-4c33-db73-dcdca1e09549"
      },
      "source": [
        "Bhaskara(1, -2, 0)"
      ],
      "execution_count": 28,
      "outputs": [
        {
          "output_type": "stream",
          "text": [
            "Essa equação possui duas raízes reais.\n",
            "A raíz 1 é: 2.0\n",
            "A raíz 2 é: 0.0\n"
          ],
          "name": "stdout"
        }
      ]
    },
    {
      "cell_type": "markdown",
      "metadata": {
        "id": "sOLGsbbOIklg"
      },
      "source": [
        "## **Listas**"
      ]
    },
    {
      "cell_type": "code",
      "metadata": {
        "id": "0KHmxMiMITDj"
      },
      "source": [
        "lista = ['Amanda', 22, print]"
      ],
      "execution_count": 29,
      "outputs": []
    },
    {
      "cell_type": "code",
      "metadata": {
        "colab": {
          "base_uri": "https://localhost:8080/"
        },
        "id": "V5dNi8TbIzKz",
        "outputId": "9b1effb9-1ca3-4b4b-ca8a-3546aff57aee"
      },
      "source": [
        "lista[2]"
      ],
      "execution_count": 30,
      "outputs": [
        {
          "output_type": "execute_result",
          "data": {
            "text/plain": [
              "<function print>"
            ]
          },
          "metadata": {
            "tags": []
          },
          "execution_count": 30
        }
      ]
    },
    {
      "cell_type": "code",
      "metadata": {
        "id": "qoO_xTuBI9X_",
        "colab": {
          "base_uri": "https://localhost:8080/"
        },
        "outputId": "f1e51bdc-d614-4c50-acfa-6566590d145c"
      },
      "source": [
        "nomes = ['Alice', 'Barbara', 'Carla', 'Daiana', 'Emily']\r\n",
        "nomes"
      ],
      "execution_count": 31,
      "outputs": [
        {
          "output_type": "execute_result",
          "data": {
            "text/plain": [
              "['Alice', 'Barbara', 'Carla', 'Daiana', 'Emily']"
            ]
          },
          "metadata": {
            "tags": []
          },
          "execution_count": 31
        }
      ]
    },
    {
      "cell_type": "code",
      "metadata": {
        "id": "v7VJjj2bJaRo",
        "colab": {
          "base_uri": "https://localhost:8080/"
        },
        "outputId": "89692ad9-d2f5-4210-cc67-46453c7252a4"
      },
      "source": [
        "nomes.append('Fabiana')\r\n",
        "nomes"
      ],
      "execution_count": 32,
      "outputs": [
        {
          "output_type": "execute_result",
          "data": {
            "text/plain": [
              "['Alice', 'Barbara', 'Carla', 'Daiana', 'Emily', 'Fabiana']"
            ]
          },
          "metadata": {
            "tags": []
          },
          "execution_count": 32
        }
      ]
    },
    {
      "cell_type": "code",
      "metadata": {
        "id": "cZTy2jIUJs_M",
        "colab": {
          "base_uri": "https://localhost:8080/",
          "height": 35
        },
        "outputId": "2155d07c-0ab2-4bb8-dca5-cf4a57c2ee0d"
      },
      "source": [
        "M = 'Marcia'\r\n",
        "M.upper()"
      ],
      "execution_count": 35,
      "outputs": [
        {
          "output_type": "execute_result",
          "data": {
            "application/vnd.google.colaboratory.intrinsic+json": {
              "type": "string"
            },
            "text/plain": [
              "'MARCIA'"
            ]
          },
          "metadata": {
            "tags": []
          },
          "execution_count": 35
        }
      ]
    },
    {
      "cell_type": "code",
      "metadata": {
        "id": "e99hR-IYJ9hm",
        "colab": {
          "base_uri": "https://localhost:8080/"
        },
        "outputId": "ca762d4c-6369-4981-f1a3-13fe74114227"
      },
      "source": [
        "lista = ['Amanda', 22, [1, 2, 3, ['A', 'B']]]\r\n",
        "lista"
      ],
      "execution_count": 36,
      "outputs": [
        {
          "output_type": "execute_result",
          "data": {
            "text/plain": [
              "['Amanda', 22, [1, 2, 3, ['A', 'B']]]"
            ]
          },
          "metadata": {
            "tags": []
          },
          "execution_count": 36
        }
      ]
    },
    {
      "cell_type": "code",
      "metadata": {
        "colab": {
          "base_uri": "https://localhost:8080/",
          "height": 35
        },
        "id": "VCX51scyKkjN",
        "outputId": "1fa54b70-6ef5-4498-91fb-f6dfe8b3e669"
      },
      "source": [
        "lista[2][3][1]"
      ],
      "execution_count": 37,
      "outputs": [
        {
          "output_type": "execute_result",
          "data": {
            "application/vnd.google.colaboratory.intrinsic+json": {
              "type": "string"
            },
            "text/plain": [
              "'B'"
            ]
          },
          "metadata": {
            "tags": []
          },
          "execution_count": 37
        }
      ]
    },
    {
      "cell_type": "markdown",
      "metadata": {
        "id": "z_QVIr-RLCVz"
      },
      "source": [
        "## **Conjuntos**"
      ]
    },
    {
      "cell_type": "code",
      "metadata": {
        "id": "iA2hCmW1KxAk"
      },
      "source": [
        "churras1 = {'carne', 'pao', 'linguiça', 'cerveja', 'vinagrete', 'carne'}\n",
        "churras2 = {'frango', 'pao', 'linguiça', 'refrigerante'}"
      ],
      "execution_count": 38,
      "outputs": []
    },
    {
      "cell_type": "code",
      "metadata": {
        "colab": {
          "base_uri": "https://localhost:8080/"
        },
        "id": "V8U_BwVWB6u7",
        "outputId": "db0fa14d-e377-417d-a8e4-cdf53032c527"
      },
      "source": [
        "churras1.union(churras2)"
      ],
      "execution_count": 39,
      "outputs": [
        {
          "output_type": "execute_result",
          "data": {
            "text/plain": [
              "{'carne', 'cerveja', 'frango', 'linguiça', 'pao', 'refrigerante', 'vinagrete'}"
            ]
          },
          "metadata": {
            "tags": []
          },
          "execution_count": 39
        }
      ]
    },
    {
      "cell_type": "code",
      "metadata": {
        "colab": {
          "base_uri": "https://localhost:8080/"
        },
        "id": "RSMeq3t5LWPd",
        "outputId": "58d67df4-0384-4618-f176-252a355e44cc"
      },
      "source": [
        "churras1.intersection(churras2)"
      ],
      "execution_count": 40,
      "outputs": [
        {
          "output_type": "execute_result",
          "data": {
            "text/plain": [
              "{'linguiça', 'pao'}"
            ]
          },
          "metadata": {
            "tags": []
          },
          "execution_count": 40
        }
      ]
    },
    {
      "cell_type": "markdown",
      "metadata": {
        "id": "7b4cNtBbMFcS"
      },
      "source": [
        "## **Importanto uma Biblioteca**"
      ]
    },
    {
      "cell_type": "code",
      "metadata": {
        "id": "vAxzlhCDLzVV"
      },
      "source": [
        "import random"
      ],
      "execution_count": 41,
      "outputs": []
    },
    {
      "cell_type": "code",
      "metadata": {
        "colab": {
          "base_uri": "https://localhost:8080/"
        },
        "id": "a3a_bfVqMN_8",
        "outputId": "3c2003af-e666-4b93-c045-a6ba2f7b5e6f"
      },
      "source": [
        "meujogo = set([34, 19, 10, 29,11, 60])\n",
        "sorteio = set(random.sample(range(1, 61), k = 6))\n",
        "\n",
        "print('Meu jogo:', meujogo)\n",
        "print('Sorteio:', sorteio)\n",
        "\n",
        "acertos = meujogo.intersection(sorteio)\n",
        "numacertos = len(acertos)\n",
        "\n",
        "print('Acertos:', acertos)\n",
        "print('#Acertos:', numacertos)"
      ],
      "execution_count": 42,
      "outputs": [
        {
          "output_type": "stream",
          "text": [
            "Meu jogo: {34, 10, 11, 19, 60, 29}\n",
            "Sorteio: {32, 33, 34, 15, 52, 23}\n",
            "Acertos: {34}\n",
            "#Acertos: 1\n"
          ],
          "name": "stdout"
        }
      ]
    },
    {
      "cell_type": "code",
      "metadata": {
        "colab": {
          "base_uri": "https://localhost:8080/"
        },
        "id": "jFz4HuZpNEPO",
        "outputId": "3bb418c5-00f3-48f6-d9dd-f6cd7897c421"
      },
      "source": [
        "type(sorteio)"
      ],
      "execution_count": 43,
      "outputs": [
        {
          "output_type": "execute_result",
          "data": {
            "text/plain": [
              "set"
            ]
          },
          "metadata": {
            "tags": []
          },
          "execution_count": 43
        }
      ]
    },
    {
      "cell_type": "code",
      "metadata": {
        "colab": {
          "base_uri": "https://localhost:8080/"
        },
        "id": "LMdg1NSLNF3z",
        "outputId": "a5440e1f-a717-43eb-c750-cd6671118bb1"
      },
      "source": [
        "set(sorteio)"
      ],
      "execution_count": 44,
      "outputs": [
        {
          "output_type": "execute_result",
          "data": {
            "text/plain": [
              "{15, 23, 32, 33, 34, 52}"
            ]
          },
          "metadata": {
            "tags": []
          },
          "execution_count": 44
        }
      ]
    },
    {
      "cell_type": "code",
      "metadata": {
        "colab": {
          "base_uri": "https://localhost:8080/"
        },
        "id": "OMeqOj930HcB",
        "outputId": "56545d44-d332-4095-8cbc-46f67e0f925c"
      },
      "source": [
        "def Megasena():\n",
        "  meujogo = set(random.sample(range(1, 61), k = 6))\n",
        "  sorteio = set(random.sample(range(1, 61), k = 6))\n",
        "\n",
        "  acertos = meujogo.intersection(sorteio)\n",
        "  numacertos = len(acertos)\n",
        "\n",
        "  return numacertos\n",
        "\n",
        "Megasena()"
      ],
      "execution_count": 46,
      "outputs": [
        {
          "output_type": "execute_result",
          "data": {
            "text/plain": [
              "2"
            ]
          },
          "metadata": {
            "tags": []
          },
          "execution_count": 46
        }
      ]
    },
    {
      "cell_type": "markdown",
      "metadata": {
        "id": "6fy0nSJh1SJ2"
      },
      "source": [
        "## **Iteradores**"
      ]
    },
    {
      "cell_type": "code",
      "metadata": {
        "colab": {
          "base_uri": "https://localhost:8080/"
        },
        "id": "Kf21f9ip1ApL",
        "outputId": "79d5f879-57f0-4cfa-8df3-d818c84a6014"
      },
      "source": [
        "# FOR\n",
        "\n",
        "lista = [1, 2, 3, 4]\n",
        "\n",
        "quadrados = []\n",
        "\n",
        "for i in lista:\n",
        "  quadrados.append(i**2)\n",
        "\n",
        "print(quadrados)"
      ],
      "execution_count": 47,
      "outputs": [
        {
          "output_type": "stream",
          "text": [
            "[1, 4, 9, 16]\n"
          ],
          "name": "stdout"
        }
      ]
    },
    {
      "cell_type": "code",
      "metadata": {
        "id": "bjKgpr7A1QUE"
      },
      "source": [
        "#exemplo da megasena\n",
        "\n",
        "resultados = []\n",
        "\n",
        "n = 2321\n",
        "\n",
        "for i in range(n):\n",
        "  res = Megasena()\n",
        "  resultados.append(res)"
      ],
      "execution_count": 48,
      "outputs": []
    },
    {
      "cell_type": "code",
      "metadata": {
        "colab": {
          "base_uri": "https://localhost:8080/"
        },
        "id": "EAf0Z0Gf3HHQ",
        "outputId": "fd4c8e8f-3d9e-41c7-8b4d-706d27d82c87"
      },
      "source": [
        "resultados.count(4)"
      ],
      "execution_count": 49,
      "outputs": [
        {
          "output_type": "execute_result",
          "data": {
            "text/plain": [
              "3"
            ]
          },
          "metadata": {
            "tags": []
          },
          "execution_count": 49
        }
      ]
    },
    {
      "cell_type": "code",
      "metadata": {
        "colab": {
          "base_uri": "https://localhost:8080/"
        },
        "id": "91qMOgcx3I8p",
        "outputId": "dc83cb23-9eb0-451d-8d30-e847fb6d42fd"
      },
      "source": [
        "n*4.5"
      ],
      "execution_count": 50,
      "outputs": [
        {
          "output_type": "execute_result",
          "data": {
            "text/plain": [
              "10444.5"
            ]
          },
          "metadata": {
            "tags": []
          },
          "execution_count": 50
        }
      ]
    },
    {
      "cell_type": "code",
      "metadata": {
        "colab": {
          "base_uri": "https://localhost:8080/"
        },
        "id": "Pf3yWl-j4hWz",
        "outputId": "22874171-7b2e-4bae-c71a-46afb1edaa50"
      },
      "source": [
        "# while\n",
        "\n",
        "i = 0\n",
        "\n",
        "while i < 10:\n",
        "  i = i + 1\n",
        "  print(i)"
      ],
      "execution_count": 51,
      "outputs": [
        {
          "output_type": "stream",
          "text": [
            "1\n",
            "2\n",
            "3\n",
            "4\n",
            "5\n",
            "6\n",
            "7\n",
            "8\n",
            "9\n",
            "10\n"
          ],
          "name": "stdout"
        }
      ]
    },
    {
      "cell_type": "code",
      "metadata": {
        "id": "YXLGG4Um5mAN"
      },
      "source": [
        "tentativas = []\n",
        "\n",
        "for i in range(1000):\n",
        "\n",
        "  res = 0\n",
        "  resultados = []\n",
        "\n",
        "  while res != 4:\n",
        "    res = Megasena()\n",
        "    resultados.append(res)\n",
        "\n",
        "  tentativas.append(len(resultados))"
      ],
      "execution_count": 52,
      "outputs": []
    },
    {
      "cell_type": "code",
      "metadata": {
        "colab": {
          "base_uri": "https://localhost:8080/"
        },
        "id": "OhKDU1ix7fXi",
        "outputId": "16b2684a-2444-499b-cf9f-5b46d0a43dd4"
      },
      "source": [
        "sum(tentativas)/1000"
      ],
      "execution_count": 53,
      "outputs": [
        {
          "output_type": "execute_result",
          "data": {
            "text/plain": [
              "2206.679"
            ]
          },
          "metadata": {
            "tags": []
          },
          "execution_count": 53
        }
      ]
    },
    {
      "cell_type": "code",
      "metadata": {
        "id": "F_X0qlb28X6u"
      },
      "source": [
        "import numpy as np"
      ],
      "execution_count": 54,
      "outputs": []
    },
    {
      "cell_type": "code",
      "metadata": {
        "colab": {
          "base_uri": "https://localhost:8080/"
        },
        "id": "vnQfN2eq81X2",
        "outputId": "309a5ef3-5287-47fd-ac1f-ac5bc515bc11"
      },
      "source": [
        "np.mean(tentativas)"
      ],
      "execution_count": 55,
      "outputs": [
        {
          "output_type": "execute_result",
          "data": {
            "text/plain": [
              "2206.679"
            ]
          },
          "metadata": {
            "tags": []
          },
          "execution_count": 55
        }
      ]
    },
    {
      "cell_type": "code",
      "metadata": {
        "id": "2fuNWseu83VD"
      },
      "source": [
        "x = np.arange(1, 11, 0.5)"
      ],
      "execution_count": 56,
      "outputs": []
    },
    {
      "cell_type": "code",
      "metadata": {
        "colab": {
          "base_uri": "https://localhost:8080/"
        },
        "id": "qf5Ic7MJ8_Bw",
        "outputId": "7e8e0a51-527e-4e37-f272-103a28c55780"
      },
      "source": [
        "#dim1\n",
        "\n",
        "np.array([1, 2, 3])"
      ],
      "execution_count": 57,
      "outputs": [
        {
          "output_type": "execute_result",
          "data": {
            "text/plain": [
              "array([1, 2, 3])"
            ]
          },
          "metadata": {
            "tags": []
          },
          "execution_count": 57
        }
      ]
    },
    {
      "cell_type": "code",
      "metadata": {
        "colab": {
          "base_uri": "https://localhost:8080/"
        },
        "id": "fUQUBy799VSo",
        "outputId": "623f6cc7-73dc-4e25-cb0f-b6c4f2731bfa"
      },
      "source": [
        "#dim2\n",
        "\n",
        "np.array([ [1, 2, 3], [2, 6, 4] ])"
      ],
      "execution_count": 58,
      "outputs": [
        {
          "output_type": "execute_result",
          "data": {
            "text/plain": [
              "array([[1, 2, 3],\n",
              "       [2, 6, 4]])"
            ]
          },
          "metadata": {
            "tags": []
          },
          "execution_count": 58
        }
      ]
    },
    {
      "cell_type": "code",
      "metadata": {
        "colab": {
          "base_uri": "https://localhost:8080/"
        },
        "id": "4Omb6YTu95Rn",
        "outputId": "ed0317c3-16ee-4378-86eb-a1921305ae8f"
      },
      "source": [
        "#dim3\n",
        "\n",
        "np.array( [ [ [ [1, 2, 3], [2, 6, 4] ], [ [1, 2, 3], [2, 6, 4] ] ] ] )"
      ],
      "execution_count": 59,
      "outputs": [
        {
          "output_type": "execute_result",
          "data": {
            "text/plain": [
              "array([[[[1, 2, 3],\n",
              "         [2, 6, 4]],\n",
              "\n",
              "        [[1, 2, 3],\n",
              "         [2, 6, 4]]]])"
            ]
          },
          "metadata": {
            "tags": []
          },
          "execution_count": 59
        }
      ]
    },
    {
      "cell_type": "code",
      "metadata": {
        "id": "6TQ6ecLj-ahJ"
      },
      "source": [
        "lista = [1, 2, 3, 4]"
      ],
      "execution_count": 60,
      "outputs": []
    },
    {
      "cell_type": "code",
      "metadata": {
        "colab": {
          "base_uri": "https://localhost:8080/"
        },
        "id": "JtexsQbr_FaQ",
        "outputId": "a91092a3-257f-48b2-c629-f91c9847244e"
      },
      "source": [
        "lista * 2"
      ],
      "execution_count": 61,
      "outputs": [
        {
          "output_type": "execute_result",
          "data": {
            "text/plain": [
              "[1, 2, 3, 4, 1, 2, 3, 4]"
            ]
          },
          "metadata": {
            "tags": []
          },
          "execution_count": 61
        }
      ]
    },
    {
      "cell_type": "code",
      "metadata": {
        "colab": {
          "base_uri": "https://localhost:8080/"
        },
        "id": "Eo-FNrDF_GSx",
        "outputId": "41d2e3f8-1eeb-44c0-adee-86d7f3059b84"
      },
      "source": [
        "print(np.array([lista]) + 2)\n",
        "print(np.array([lista]) - 2)\n",
        "print(np.array([lista]) * 2)\n",
        "print(np.array([lista]) / 2)\n",
        "print(np.array([lista]) ** 2)\n",
        "print(np.array([lista]) // 2)\n",
        "print(np.array([lista]) % 2)"
      ],
      "execution_count": 62,
      "outputs": [
        {
          "output_type": "stream",
          "text": [
            "[[3 4 5 6]]\n",
            "[[-1  0  1  2]]\n",
            "[[2 4 6 8]]\n",
            "[[0.5 1.  1.5 2. ]]\n",
            "[[ 1  4  9 16]]\n",
            "[[0 1 1 2]]\n",
            "[[1 0 1 0]]\n"
          ],
          "name": "stdout"
        }
      ]
    },
    {
      "cell_type": "code",
      "metadata": {
        "colab": {
          "base_uri": "https://localhost:8080/"
        },
        "id": "_zwgh7tt_RBz",
        "outputId": "781a85c5-fc1f-453e-9205-9eeba5f0faab"
      },
      "source": [
        "np.random.uniform(low = 0, high = 1, size = 10)"
      ],
      "execution_count": 63,
      "outputs": [
        {
          "output_type": "execute_result",
          "data": {
            "text/plain": [
              "array([0.76839816, 0.35666367, 0.36417522, 0.57867563, 0.0147442 ,\n",
              "       0.01259839, 0.15072367, 0.96022516, 0.89236752, 0.6144686 ])"
            ]
          },
          "metadata": {
            "tags": []
          },
          "execution_count": 63
        }
      ]
    },
    {
      "cell_type": "code",
      "metadata": {
        "colab": {
          "base_uri": "https://localhost:8080/"
        },
        "id": "6fFsE9QPAajM",
        "outputId": "798c29fd-7d12-4803-ae78-0f815b8ac633"
      },
      "source": [
        "np.random.normal(loc = 5, scale = 1, size = 10)"
      ],
      "execution_count": 68,
      "outputs": [
        {
          "output_type": "execute_result",
          "data": {
            "text/plain": [
              "array([6.06953692, 6.00498946, 5.67575653, 5.15812178, 3.65952573,\n",
              "       4.21792521, 4.55435876, 4.75206527, 6.15228187, 3.90893474])"
            ]
          },
          "metadata": {
            "tags": []
          },
          "execution_count": 68
        }
      ]
    },
    {
      "cell_type": "code",
      "metadata": {
        "id": "NMRpOhLcAlLb"
      },
      "source": [
        "x = np.arange(1, 10, 0.05)\n",
        "y = 50 - 8*x + x**2 + np.random.normal(0, 3, len(x))\n",
        "\n",
        "reta = a*x**2 + b*x + c\n"
      ],
      "execution_count": 69,
      "outputs": []
    },
    {
      "cell_type": "code",
      "metadata": {
        "id": "qehdPiPRBApV"
      },
      "source": [
        "import matplotlib.pyplot as plt"
      ],
      "execution_count": 70,
      "outputs": []
    },
    {
      "cell_type": "code",
      "metadata": {
        "colab": {
          "base_uri": "https://localhost:8080/",
          "height": 282
        },
        "id": "CP6UAjSkBDzR",
        "outputId": "426088c0-e679-4684-cc24-078f1014b61f"
      },
      "source": [
        "plt.plot(x, y, '.')\n",
        "plt.plot(x, reta)"
      ],
      "execution_count": 73,
      "outputs": [
        {
          "output_type": "execute_result",
          "data": {
            "text/plain": [
              "[<matplotlib.lines.Line2D at 0x7f47e5d24898>]"
            ]
          },
          "metadata": {
            "tags": []
          },
          "execution_count": 73
        },
        {
          "output_type": "display_data",
          "data": {
            "image/png": "[encoded data removed]",
            "text/plain": [
              "<Figure size 432x288 with 1 Axes>"
            ]
          },
          "metadata": {
            "tags": [],
            "needs_background": "light"
          }
        }
      ]
    },
    {
      "cell_type": "code",
      "metadata": {
        "id": "VX4i3-stBKTa"
      },
      "source": [
        "a, b, c = np.polyfit(x, y, deg = 2)"
      ],
      "execution_count": 72,
      "outputs": []
    },
    {
      "cell_type": "markdown",
      "metadata": {
        "id": "4j6hbuhtDbuS"
      },
      "source": [
        "## **Projetinho**"
      ]
    },
    {
      "cell_type": "code",
      "metadata": {
        "id": "OfTd7QKyDc4s"
      },
      "source": [
        "n = 636\n",
        "album_preco = 8.90\n",
        "pacote_preco = 2.50"
      ],
      "execution_count": 74,
      "outputs": []
    },
    {
      "cell_type": "code",
      "metadata": {
        "colab": {
          "base_uri": "https://localhost:8080/"
        },
        "id": "WNgLMqWREBr7",
        "outputId": "833f87ef-16aa-49b9-aae4-ebc5bf56a6c7"
      },
      "source": [
        "pacotinho = np.random.choice(range(n), 5)\n",
        "pacotinho"
      ],
      "execution_count": 75,
      "outputs": [
        {
          "output_type": "execute_result",
          "data": {
            "text/plain": [
              "array([114, 411, 181, 103, 304])"
            ]
          },
          "metadata": {
            "tags": []
          },
          "execution_count": 75
        }
      ]
    },
    {
      "cell_type": "code",
      "metadata": {
        "id": "Nftvoyy6FYBb"
      },
      "source": [
        "def SimulaAlbum():\n",
        "  album = np.zeros(n)\n",
        "  pacotes = 0\n",
        "\n",
        "  while not np.all(album > 0):\n",
        "    pacotinho = np.random.choice(range(n), 5)\n",
        "    pacotes += 1\n",
        "\n",
        "    for i in pacotinho:\n",
        "      album[i] += 1\n",
        "    \n",
        "  return pacotes"
      ],
      "execution_count": 76,
      "outputs": []
    },
    {
      "cell_type": "code",
      "metadata": {
        "id": "YYirS0BsF8cz"
      },
      "source": [
        "res = []\n",
        "R = 1000\n",
        "\n",
        "for i in range(R):\n",
        "  res.append(SimulaAlbum())"
      ],
      "execution_count": 77,
      "outputs": []
    },
    {
      "cell_type": "code",
      "metadata": {
        "id": "TAaeLrdoG9ie"
      },
      "source": [
        "res = [SimulaAlbum() for i in range(10)]"
      ],
      "execution_count": 78,
      "outputs": []
    },
    {
      "cell_type": "code",
      "metadata": {
        "id": "XSV_JENqI_Cg",
        "colab": {
          "base_uri": "https://localhost:8080/"
        },
        "outputId": "2fa7f43f-a47c-4a67-d8ec-ad0c6cfcf352"
      },
      "source": [
        "gasto_medio = np.mean(res)*pacote_preco + album_preco\r\n",
        "print('O custo médio para completar o álbum é de R${}'.format(round(gasto_medio, 2)))"
      ],
      "execution_count": 79,
      "outputs": [
        {
          "output_type": "stream",
          "text": [
            "O custo médio para completar o álbum é de R$2152.65\n"
          ],
          "name": "stdout"
        }
      ]
    }
  ]
}