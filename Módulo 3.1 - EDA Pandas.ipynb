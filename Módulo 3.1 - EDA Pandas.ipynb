{
  "nbformat": 4,
  "nbformat_minor": 0,
  "metadata": {
    "colab": {
      "name": "Módulo 3.1 - EDA Pandas",
      "provenance": [],
      "collapsed_sections": [],
      "authorship_tag": "ABX9TyO9hw6zioXqOWqJSIq9LoLB",
      "include_colab_link": true
    },
    "kernelspec": {
      "name": "python3",
      "display_name": "Python 3"
    }
  },
  "cells": [
    {
      "cell_type": "markdown",
      "metadata": {
        "id": "view-in-github",
        "colab_type": "text"
      },
      "source": [
        "<a href=\"https://colab.research.google.com/github/amandasmagalhaes/data-science-flai/blob/main/M%C3%B3dulo%203.1%20-%20EDA%20Pandas.ipynb\" target=\"_parent\"><img src=\"https://colab.research.google.com/assets/colab-badge.svg\" alt=\"Open In Colab\"/></a>"
      ]
    },
    {
      "cell_type": "markdown",
      "metadata": {
        "id": "TAKRuIVzuGoU"
      },
      "source": [
        "# **PANDAS**"
      ]
    },
    {
      "cell_type": "code",
      "metadata": {
        "id": "at9nuS33uMde",
        "colab": {
          "base_uri": "https://localhost:8080/"
        },
        "outputId": "9b3ccbce-54e3-4c9a-f2d2-b89a3ed38057"
      },
      "source": [
        "#dicionarios\n",
        "\n",
        "dicionario = {'nome': 'Ricardo', 'idade': 34, 'comida_favorita': 'lasanha' }\n",
        "dicionario"
      ],
      "execution_count": 1,
      "outputs": [
        {
          "output_type": "execute_result",
          "data": {
            "text/plain": [
              "{'comida_favorita': 'lasanha', 'idade': 34, 'nome': 'Ricardo'}"
            ]
          },
          "metadata": {
            "tags": []
          },
          "execution_count": 1
        }
      ]
    },
    {
      "cell_type": "code",
      "metadata": {
        "colab": {
          "base_uri": "https://localhost:8080/"
        },
        "id": "uImMEyO4uc4o",
        "outputId": "d3766749-541c-4c1f-9a4c-006f8f635cdc"
      },
      "source": [
        "type (dicionario)"
      ],
      "execution_count": 2,
      "outputs": [
        {
          "output_type": "execute_result",
          "data": {
            "text/plain": [
              "dict"
            ]
          },
          "metadata": {
            "tags": []
          },
          "execution_count": 2
        }
      ]
    },
    {
      "cell_type": "code",
      "metadata": {
        "colab": {
          "base_uri": "https://localhost:8080/",
          "height": 35
        },
        "id": "mKiIClxeuemB",
        "outputId": "d35a3ce1-e6c8-43de-c126-1a7cde182935"
      },
      "source": [
        "dicionario['nome']"
      ],
      "execution_count": 3,
      "outputs": [
        {
          "output_type": "execute_result",
          "data": {
            "application/vnd.google.colaboratory.intrinsic+json": {
              "type": "string"
            },
            "text/plain": [
              "'Ricardo'"
            ]
          },
          "metadata": {
            "tags": []
          },
          "execution_count": 3
        }
      ]
    },
    {
      "cell_type": "code",
      "metadata": {
        "colab": {
          "base_uri": "https://localhost:8080/"
        },
        "id": "NhzVC4YiulJe",
        "outputId": "cd7ed3b2-9d16-4b99-8586-41426e19d2ab"
      },
      "source": [
        "dicionario.keys()"
      ],
      "execution_count": 4,
      "outputs": [
        {
          "output_type": "execute_result",
          "data": {
            "text/plain": [
              "dict_keys(['nome', 'idade', 'comida_favorita'])"
            ]
          },
          "metadata": {
            "tags": []
          },
          "execution_count": 4
        }
      ]
    },
    {
      "cell_type": "code",
      "metadata": {
        "colab": {
          "base_uri": "https://localhost:8080/"
        },
        "id": "9K_FpvH2uvKZ",
        "outputId": "4d6ae673-4323-4609-c566-ac24f3df5011"
      },
      "source": [
        "dicionario.values()"
      ],
      "execution_count": 5,
      "outputs": [
        {
          "output_type": "execute_result",
          "data": {
            "text/plain": [
              "dict_values(['Ricardo', 34, 'lasanha'])"
            ]
          },
          "metadata": {
            "tags": []
          },
          "execution_count": 5
        }
      ]
    },
    {
      "cell_type": "code",
      "metadata": {
        "id": "b2PtX0x4uwhT"
      },
      "source": [
        "parametros = {'loc': 0, 'scale': 1, 'size': 10}"
      ],
      "execution_count": 6,
      "outputs": []
    },
    {
      "cell_type": "code",
      "metadata": {
        "id": "kwEf6AaMu_gt"
      },
      "source": [
        "import numpy as np"
      ],
      "execution_count": 7,
      "outputs": []
    },
    {
      "cell_type": "code",
      "metadata": {
        "colab": {
          "base_uri": "https://localhost:8080/"
        },
        "id": "ewYnNd_QvC1n",
        "outputId": "70aa7ff8-1afa-4803-8a23-cd4c1df5734f"
      },
      "source": [
        "np.random.normal(**parametros)"
      ],
      "execution_count": 8,
      "outputs": [
        {
          "output_type": "execute_result",
          "data": {
            "text/plain": [
              "array([ 1.22526801,  0.59005797, -1.43424769, -0.19271835,  0.40553466,\n",
              "       -1.83343297, -0.69554888,  0.09427061,  0.48447941, -1.39829843])"
            ]
          },
          "metadata": {
            "tags": []
          },
          "execution_count": 8
        }
      ]
    },
    {
      "cell_type": "code",
      "metadata": {
        "id": "M2arnDcwv3f2"
      },
      "source": [
        "import pandas as pd"
      ],
      "execution_count": 9,
      "outputs": []
    },
    {
      "cell_type": "code",
      "metadata": {
        "id": "xL5oR6WTv4qh"
      },
      "source": [
        "x = np.random.uniform(0, 10, 30).round(1).reshape(10, 3)\n",
        "\n",
        "colunas = ['P1', 'P2', 'P3']\n",
        "indices = ['Alice', 'Bruno', 'Carla', 'David', 'Emily', 'Fabio', 'Gloria', 'Helio', 'Isabela', 'Lucas']\n",
        "\n",
        "notas = pd.DataFrame(data = x, index = indices, columns = colunas)"
      ],
      "execution_count": 10,
      "outputs": []
    },
    {
      "cell_type": "code",
      "metadata": {
        "colab": {
          "base_uri": "https://localhost:8080/"
        },
        "id": "qHy_CONgwVdE",
        "outputId": "13f4eb59-b104-4523-a99c-fcdf5cf2b356"
      },
      "source": [
        "notas.info()"
      ],
      "execution_count": 11,
      "outputs": [
        {
          "output_type": "stream",
          "text": [
            "<class 'pandas.core.frame.DataFrame'>\n",
            "Index: 10 entries, Alice to Lucas\n",
            "Data columns (total 3 columns):\n",
            " #   Column  Non-Null Count  Dtype  \n",
            "---  ------  --------------  -----  \n",
            " 0   P1      10 non-null     float64\n",
            " 1   P2      10 non-null     float64\n",
            " 2   P3      10 non-null     float64\n",
            "dtypes: float64(3)\n",
            "memory usage: 320.0+ bytes\n"
          ],
          "name": "stdout"
        }
      ]
    },
    {
      "cell_type": "code",
      "metadata": {
        "colab": {
          "base_uri": "https://localhost:8080/",
          "height": 297
        },
        "id": "HxuvR072xOeb",
        "outputId": "bc28792c-b236-40ec-c8c7-ea35d84f67cc"
      },
      "source": [
        "notas.describe().round(2)"
      ],
      "execution_count": 13,
      "outputs": [
        {
          "output_type": "execute_result",
          "data": {
            "text/html": [
              "<div>\n",
              "<style scoped>\n",
              "    .dataframe tbody tr th:only-of-type {\n",
              "        vertical-align: middle;\n",
              "    }\n",
              "\n",
              "    .dataframe tbody tr th {\n",
              "        vertical-align: top;\n",
              "    }\n",
              "\n",
              "    .dataframe thead th {\n",
              "        text-align: right;\n",
              "    }\n",
              "</style>\n",
              "<table border=\"1\" class=\"dataframe\">\n",
              "  <thead>\n",
              "    <tr style=\"text-align: right;\">\n",
              "      <th></th>\n",
              "      <th>P1</th>\n",
              "      <th>P2</th>\n",
              "      <th>P3</th>\n",
              "    </tr>\n",
              "  </thead>\n",
              "  <tbody>\n",
              "    <tr>\n",
              "      <th>count</th>\n",
              "      <td>10.00</td>\n",
              "      <td>10.00</td>\n",
              "      <td>10.00</td>\n",
              "    </tr>\n",
              "    <tr>\n",
              "      <th>mean</th>\n",
              "      <td>4.72</td>\n",
              "      <td>6.18</td>\n",
              "      <td>3.72</td>\n",
              "    </tr>\n",
              "    <tr>\n",
              "      <th>std</th>\n",
              "      <td>3.00</td>\n",
              "      <td>3.10</td>\n",
              "      <td>2.88</td>\n",
              "    </tr>\n",
              "    <tr>\n",
              "      <th>min</th>\n",
              "      <td>0.30</td>\n",
              "      <td>0.20</td>\n",
              "      <td>0.20</td>\n",
              "    </tr>\n",
              "    <tr>\n",
              "      <th>25%</th>\n",
              "      <td>2.10</td>\n",
              "      <td>4.10</td>\n",
              "      <td>1.75</td>\n",
              "    </tr>\n",
              "    <tr>\n",
              "      <th>50%</th>\n",
              "      <td>5.25</td>\n",
              "      <td>6.65</td>\n",
              "      <td>2.85</td>\n",
              "    </tr>\n",
              "    <tr>\n",
              "      <th>75%</th>\n",
              "      <td>7.00</td>\n",
              "      <td>8.38</td>\n",
              "      <td>5.03</td>\n",
              "    </tr>\n",
              "    <tr>\n",
              "      <th>max</th>\n",
              "      <td>8.50</td>\n",
              "      <td>9.80</td>\n",
              "      <td>9.20</td>\n",
              "    </tr>\n",
              "  </tbody>\n",
              "</table>\n",
              "</div>"
            ],
            "text/plain": [
              "          P1     P2     P3\n",
              "count  10.00  10.00  10.00\n",
              "mean    4.72   6.18   3.72\n",
              "std     3.00   3.10   2.88\n",
              "min     0.30   0.20   0.20\n",
              "25%     2.10   4.10   1.75\n",
              "50%     5.25   6.65   2.85\n",
              "75%     7.00   8.38   5.03\n",
              "max     8.50   9.80   9.20"
            ]
          },
          "metadata": {
            "tags": []
          },
          "execution_count": 13
        }
      ]
    },
    {
      "cell_type": "code",
      "metadata": {
        "colab": {
          "base_uri": "https://localhost:8080/",
          "height": 297
        },
        "id": "PyID2hvzxV9D",
        "outputId": "ffc1d4f0-f592-4f60-e018-7e14f936295d"
      },
      "source": [
        "notas.transpose().describe().round(2)"
      ],
      "execution_count": 14,
      "outputs": [
        {
          "output_type": "execute_result",
          "data": {
            "text/html": [
              "<div>\n",
              "<style scoped>\n",
              "    .dataframe tbody tr th:only-of-type {\n",
              "        vertical-align: middle;\n",
              "    }\n",
              "\n",
              "    .dataframe tbody tr th {\n",
              "        vertical-align: top;\n",
              "    }\n",
              "\n",
              "    .dataframe thead th {\n",
              "        text-align: right;\n",
              "    }\n",
              "</style>\n",
              "<table border=\"1\" class=\"dataframe\">\n",
              "  <thead>\n",
              "    <tr style=\"text-align: right;\">\n",
              "      <th></th>\n",
              "      <th>Alice</th>\n",
              "      <th>Bruno</th>\n",
              "      <th>Carla</th>\n",
              "      <th>David</th>\n",
              "      <th>Emily</th>\n",
              "      <th>Fabio</th>\n",
              "      <th>Gloria</th>\n",
              "      <th>Helio</th>\n",
              "      <th>Isabela</th>\n",
              "      <th>Lucas</th>\n",
              "    </tr>\n",
              "  </thead>\n",
              "  <tbody>\n",
              "    <tr>\n",
              "      <th>count</th>\n",
              "      <td>3.00</td>\n",
              "      <td>3.00</td>\n",
              "      <td>3.00</td>\n",
              "      <td>3.00</td>\n",
              "      <td>3.00</td>\n",
              "      <td>3.00</td>\n",
              "      <td>3.00</td>\n",
              "      <td>3.00</td>\n",
              "      <td>3.00</td>\n",
              "      <td>3.00</td>\n",
              "    </tr>\n",
              "    <tr>\n",
              "      <th>mean</th>\n",
              "      <td>5.30</td>\n",
              "      <td>8.67</td>\n",
              "      <td>3.77</td>\n",
              "      <td>2.00</td>\n",
              "      <td>1.93</td>\n",
              "      <td>4.03</td>\n",
              "      <td>6.93</td>\n",
              "      <td>4.30</td>\n",
              "      <td>4.87</td>\n",
              "      <td>6.93</td>\n",
              "    </tr>\n",
              "    <tr>\n",
              "      <th>std</th>\n",
              "      <td>3.39</td>\n",
              "      <td>1.47</td>\n",
              "      <td>1.96</td>\n",
              "      <td>2.38</td>\n",
              "      <td>1.86</td>\n",
              "      <td>2.38</td>\n",
              "      <td>2.71</td>\n",
              "      <td>2.92</td>\n",
              "      <td>4.76</td>\n",
              "      <td>1.51</td>\n",
              "    </tr>\n",
              "    <tr>\n",
              "      <th>min</th>\n",
              "      <td>1.40</td>\n",
              "      <td>7.00</td>\n",
              "      <td>1.90</td>\n",
              "      <td>0.20</td>\n",
              "      <td>0.20</td>\n",
              "      <td>1.90</td>\n",
              "      <td>3.80</td>\n",
              "      <td>1.60</td>\n",
              "      <td>0.30</td>\n",
              "      <td>5.20</td>\n",
              "    </tr>\n",
              "    <tr>\n",
              "      <th>25%</th>\n",
              "      <td>4.20</td>\n",
              "      <td>8.10</td>\n",
              "      <td>2.75</td>\n",
              "      <td>0.65</td>\n",
              "      <td>0.95</td>\n",
              "      <td>2.75</td>\n",
              "      <td>6.15</td>\n",
              "      <td>2.75</td>\n",
              "      <td>2.40</td>\n",
              "      <td>6.40</td>\n",
              "    </tr>\n",
              "    <tr>\n",
              "      <th>50%</th>\n",
              "      <td>7.00</td>\n",
              "      <td>9.20</td>\n",
              "      <td>3.60</td>\n",
              "      <td>1.10</td>\n",
              "      <td>1.70</td>\n",
              "      <td>3.60</td>\n",
              "      <td>8.50</td>\n",
              "      <td>3.90</td>\n",
              "      <td>4.50</td>\n",
              "      <td>7.60</td>\n",
              "    </tr>\n",
              "    <tr>\n",
              "      <th>75%</th>\n",
              "      <td>7.25</td>\n",
              "      <td>9.50</td>\n",
              "      <td>4.70</td>\n",
              "      <td>2.90</td>\n",
              "      <td>2.80</td>\n",
              "      <td>5.10</td>\n",
              "      <td>8.50</td>\n",
              "      <td>5.65</td>\n",
              "      <td>7.15</td>\n",
              "      <td>7.80</td>\n",
              "    </tr>\n",
              "    <tr>\n",
              "      <th>max</th>\n",
              "      <td>7.50</td>\n",
              "      <td>9.80</td>\n",
              "      <td>5.80</td>\n",
              "      <td>4.70</td>\n",
              "      <td>3.90</td>\n",
              "      <td>6.60</td>\n",
              "      <td>8.50</td>\n",
              "      <td>7.40</td>\n",
              "      <td>9.80</td>\n",
              "      <td>8.00</td>\n",
              "    </tr>\n",
              "  </tbody>\n",
              "</table>\n",
              "</div>"
            ],
            "text/plain": [
              "       Alice  Bruno  Carla  David  Emily  Fabio  Gloria  Helio  Isabela  Lucas\n",
              "count   3.00   3.00   3.00   3.00   3.00   3.00    3.00   3.00     3.00   3.00\n",
              "mean    5.30   8.67   3.77   2.00   1.93   4.03    6.93   4.30     4.87   6.93\n",
              "std     3.39   1.47   1.96   2.38   1.86   2.38    2.71   2.92     4.76   1.51\n",
              "min     1.40   7.00   1.90   0.20   0.20   1.90    3.80   1.60     0.30   5.20\n",
              "25%     4.20   8.10   2.75   0.65   0.95   2.75    6.15   2.75     2.40   6.40\n",
              "50%     7.00   9.20   3.60   1.10   1.70   3.60    8.50   3.90     4.50   7.60\n",
              "75%     7.25   9.50   4.70   2.90   2.80   5.10    8.50   5.65     7.15   7.80\n",
              "max     7.50   9.80   5.80   4.70   3.90   6.60    8.50   7.40     9.80   8.00"
            ]
          },
          "metadata": {
            "tags": []
          },
          "execution_count": 14
        }
      ]
    },
    {
      "cell_type": "code",
      "metadata": {
        "colab": {
          "base_uri": "https://localhost:8080/",
          "height": 204
        },
        "id": "Xk6vrJYpxc7k",
        "outputId": "eba75d50-d66a-4ba6-8413-6f335bad1b9d"
      },
      "source": [
        "notas.head()"
      ],
      "execution_count": 18,
      "outputs": [
        {
          "output_type": "execute_result",
          "data": {
            "text/html": [
              "<div>\n",
              "<style scoped>\n",
              "    .dataframe tbody tr th:only-of-type {\n",
              "        vertical-align: middle;\n",
              "    }\n",
              "\n",
              "    .dataframe tbody tr th {\n",
              "        vertical-align: top;\n",
              "    }\n",
              "\n",
              "    .dataframe thead th {\n",
              "        text-align: right;\n",
              "    }\n",
              "</style>\n",
              "<table border=\"1\" class=\"dataframe\">\n",
              "  <thead>\n",
              "    <tr style=\"text-align: right;\">\n",
              "      <th></th>\n",
              "      <th>P1</th>\n",
              "      <th>P2</th>\n",
              "      <th>P3</th>\n",
              "    </tr>\n",
              "  </thead>\n",
              "  <tbody>\n",
              "    <tr>\n",
              "      <th>Alice</th>\n",
              "      <td>7.0</td>\n",
              "      <td>7.5</td>\n",
              "      <td>1.4</td>\n",
              "    </tr>\n",
              "    <tr>\n",
              "      <th>Bruno</th>\n",
              "      <td>7.0</td>\n",
              "      <td>9.8</td>\n",
              "      <td>9.2</td>\n",
              "    </tr>\n",
              "    <tr>\n",
              "      <th>Carla</th>\n",
              "      <td>3.6</td>\n",
              "      <td>5.8</td>\n",
              "      <td>1.9</td>\n",
              "    </tr>\n",
              "    <tr>\n",
              "      <th>David</th>\n",
              "      <td>1.1</td>\n",
              "      <td>4.7</td>\n",
              "      <td>0.2</td>\n",
              "    </tr>\n",
              "    <tr>\n",
              "      <th>Emily</th>\n",
              "      <td>3.9</td>\n",
              "      <td>0.2</td>\n",
              "      <td>1.7</td>\n",
              "    </tr>\n",
              "  </tbody>\n",
              "</table>\n",
              "</div>"
            ],
            "text/plain": [
              "        P1   P2   P3\n",
              "Alice  7.0  7.5  1.4\n",
              "Bruno  7.0  9.8  9.2\n",
              "Carla  3.6  5.8  1.9\n",
              "David  1.1  4.7  0.2\n",
              "Emily  3.9  0.2  1.7"
            ]
          },
          "metadata": {
            "tags": []
          },
          "execution_count": 18
        }
      ]
    },
    {
      "cell_type": "code",
      "metadata": {
        "colab": {
          "base_uri": "https://localhost:8080/",
          "height": 204
        },
        "id": "62QrrEhsxtH-",
        "outputId": "c4aa1817-4902-49e5-fb7b-ef6935f5b7d5"
      },
      "source": [
        "notas.tail()"
      ],
      "execution_count": 17,
      "outputs": [
        {
          "output_type": "execute_result",
          "data": {
            "text/html": [
              "<div>\n",
              "<style scoped>\n",
              "    .dataframe tbody tr th:only-of-type {\n",
              "        vertical-align: middle;\n",
              "    }\n",
              "\n",
              "    .dataframe tbody tr th {\n",
              "        vertical-align: top;\n",
              "    }\n",
              "\n",
              "    .dataframe thead th {\n",
              "        text-align: right;\n",
              "    }\n",
              "</style>\n",
              "<table border=\"1\" class=\"dataframe\">\n",
              "  <thead>\n",
              "    <tr style=\"text-align: right;\">\n",
              "      <th></th>\n",
              "      <th>P1</th>\n",
              "      <th>P2</th>\n",
              "      <th>P3</th>\n",
              "    </tr>\n",
              "  </thead>\n",
              "  <tbody>\n",
              "    <tr>\n",
              "      <th>Fabio</th>\n",
              "      <td>6.6</td>\n",
              "      <td>3.6</td>\n",
              "      <td>1.9</td>\n",
              "    </tr>\n",
              "    <tr>\n",
              "      <th>Gloria</th>\n",
              "      <td>8.5</td>\n",
              "      <td>8.5</td>\n",
              "      <td>3.8</td>\n",
              "    </tr>\n",
              "    <tr>\n",
              "      <th>Helio</th>\n",
              "      <td>1.6</td>\n",
              "      <td>3.9</td>\n",
              "      <td>7.4</td>\n",
              "    </tr>\n",
              "    <tr>\n",
              "      <th>Isabela</th>\n",
              "      <td>0.3</td>\n",
              "      <td>9.8</td>\n",
              "      <td>4.5</td>\n",
              "    </tr>\n",
              "    <tr>\n",
              "      <th>Lucas</th>\n",
              "      <td>7.6</td>\n",
              "      <td>8.0</td>\n",
              "      <td>5.2</td>\n",
              "    </tr>\n",
              "  </tbody>\n",
              "</table>\n",
              "</div>"
            ],
            "text/plain": [
              "          P1   P2   P3\n",
              "Fabio    6.6  3.6  1.9\n",
              "Gloria   8.5  8.5  3.8\n",
              "Helio    1.6  3.9  7.4\n",
              "Isabela  0.3  9.8  4.5\n",
              "Lucas    7.6  8.0  5.2"
            ]
          },
          "metadata": {
            "tags": []
          },
          "execution_count": 17
        }
      ]
    },
    {
      "cell_type": "code",
      "metadata": {
        "colab": {
          "base_uri": "https://localhost:8080/"
        },
        "id": "0WlIhVjpxv3z",
        "outputId": "d263597c-02c9-4cdd-d934-23692e420f9a"
      },
      "source": [
        "notas.shape"
      ],
      "execution_count": 19,
      "outputs": [
        {
          "output_type": "execute_result",
          "data": {
            "text/plain": [
              "(10, 3)"
            ]
          },
          "metadata": {
            "tags": []
          },
          "execution_count": 19
        }
      ]
    },
    {
      "cell_type": "code",
      "metadata": {
        "colab": {
          "base_uri": "https://localhost:8080/"
        },
        "id": "dovEM6jmzkBp",
        "outputId": "94b23268-7f75-45c4-f4aa-f987bb556d70"
      },
      "source": [
        "notas.mean(axis = 1).round(2)"
      ],
      "execution_count": 21,
      "outputs": [
        {
          "output_type": "execute_result",
          "data": {
            "text/plain": [
              "Alice      5.30\n",
              "Bruno      8.67\n",
              "Carla      3.77\n",
              "David      2.00\n",
              "Emily      1.93\n",
              "Fabio      4.03\n",
              "Gloria     6.93\n",
              "Helio      4.30\n",
              "Isabela    4.87\n",
              "Lucas      6.93\n",
              "dtype: float64"
            ]
          },
          "metadata": {
            "tags": []
          },
          "execution_count": 21
        }
      ]
    },
    {
      "cell_type": "code",
      "metadata": {
        "id": "ypWKua9Nx3Ab",
        "colab": {
          "base_uri": "https://localhost:8080/",
          "height": 359
        },
        "outputId": "b0e5fe1a-5558-4383-e49f-0464861702dd"
      },
      "source": [
        "notas['MF'] = notas.mean(axis = 1).round(2)\r\n",
        "notas"
      ],
      "execution_count": 23,
      "outputs": [
        {
          "output_type": "execute_result",
          "data": {
            "text/html": [
              "<div>\n",
              "<style scoped>\n",
              "    .dataframe tbody tr th:only-of-type {\n",
              "        vertical-align: middle;\n",
              "    }\n",
              "\n",
              "    .dataframe tbody tr th {\n",
              "        vertical-align: top;\n",
              "    }\n",
              "\n",
              "    .dataframe thead th {\n",
              "        text-align: right;\n",
              "    }\n",
              "</style>\n",
              "<table border=\"1\" class=\"dataframe\">\n",
              "  <thead>\n",
              "    <tr style=\"text-align: right;\">\n",
              "      <th></th>\n",
              "      <th>P1</th>\n",
              "      <th>P2</th>\n",
              "      <th>P3</th>\n",
              "      <th>MF</th>\n",
              "    </tr>\n",
              "  </thead>\n",
              "  <tbody>\n",
              "    <tr>\n",
              "      <th>Alice</th>\n",
              "      <td>7.0</td>\n",
              "      <td>7.5</td>\n",
              "      <td>1.4</td>\n",
              "      <td>5.30</td>\n",
              "    </tr>\n",
              "    <tr>\n",
              "      <th>Bruno</th>\n",
              "      <td>7.0</td>\n",
              "      <td>9.8</td>\n",
              "      <td>9.2</td>\n",
              "      <td>8.67</td>\n",
              "    </tr>\n",
              "    <tr>\n",
              "      <th>Carla</th>\n",
              "      <td>3.6</td>\n",
              "      <td>5.8</td>\n",
              "      <td>1.9</td>\n",
              "      <td>3.77</td>\n",
              "    </tr>\n",
              "    <tr>\n",
              "      <th>David</th>\n",
              "      <td>1.1</td>\n",
              "      <td>4.7</td>\n",
              "      <td>0.2</td>\n",
              "      <td>2.00</td>\n",
              "    </tr>\n",
              "    <tr>\n",
              "      <th>Emily</th>\n",
              "      <td>3.9</td>\n",
              "      <td>0.2</td>\n",
              "      <td>1.7</td>\n",
              "      <td>1.93</td>\n",
              "    </tr>\n",
              "    <tr>\n",
              "      <th>Fabio</th>\n",
              "      <td>6.6</td>\n",
              "      <td>3.6</td>\n",
              "      <td>1.9</td>\n",
              "      <td>4.03</td>\n",
              "    </tr>\n",
              "    <tr>\n",
              "      <th>Gloria</th>\n",
              "      <td>8.5</td>\n",
              "      <td>8.5</td>\n",
              "      <td>3.8</td>\n",
              "      <td>6.93</td>\n",
              "    </tr>\n",
              "    <tr>\n",
              "      <th>Helio</th>\n",
              "      <td>1.6</td>\n",
              "      <td>3.9</td>\n",
              "      <td>7.4</td>\n",
              "      <td>4.30</td>\n",
              "    </tr>\n",
              "    <tr>\n",
              "      <th>Isabela</th>\n",
              "      <td>0.3</td>\n",
              "      <td>9.8</td>\n",
              "      <td>4.5</td>\n",
              "      <td>4.87</td>\n",
              "    </tr>\n",
              "    <tr>\n",
              "      <th>Lucas</th>\n",
              "      <td>7.6</td>\n",
              "      <td>8.0</td>\n",
              "      <td>5.2</td>\n",
              "      <td>6.93</td>\n",
              "    </tr>\n",
              "  </tbody>\n",
              "</table>\n",
              "</div>"
            ],
            "text/plain": [
              "          P1   P2   P3    MF\n",
              "Alice    7.0  7.5  1.4  5.30\n",
              "Bruno    7.0  9.8  9.2  8.67\n",
              "Carla    3.6  5.8  1.9  3.77\n",
              "David    1.1  4.7  0.2  2.00\n",
              "Emily    3.9  0.2  1.7  1.93\n",
              "Fabio    6.6  3.6  1.9  4.03\n",
              "Gloria   8.5  8.5  3.8  6.93\n",
              "Helio    1.6  3.9  7.4  4.30\n",
              "Isabela  0.3  9.8  4.5  4.87\n",
              "Lucas    7.6  8.0  5.2  6.93"
            ]
          },
          "metadata": {
            "tags": []
          },
          "execution_count": 23
        }
      ]
    },
    {
      "cell_type": "code",
      "metadata": {
        "id": "p4VLWLrw0Pup",
        "colab": {
          "base_uri": "https://localhost:8080/",
          "height": 359
        },
        "outputId": "64385508-7194-40fe-cfde-4be37f17af4a"
      },
      "source": [
        "def aux(x):\n",
        "  if x < 5:\n",
        "    return 'Reprovado'\n",
        "  else:\n",
        "    return 'Aprovado'\n",
        "notas['Situação'] = notas['MF'].apply(aux) \n",
        "\n",
        "notas"
      ],
      "execution_count": 25,
      "outputs": [
        {
          "output_type": "execute_result",
          "data": {
            "text/html": [
              "<div>\n",
              "<style scoped>\n",
              "    .dataframe tbody tr th:only-of-type {\n",
              "        vertical-align: middle;\n",
              "    }\n",
              "\n",
              "    .dataframe tbody tr th {\n",
              "        vertical-align: top;\n",
              "    }\n",
              "\n",
              "    .dataframe thead th {\n",
              "        text-align: right;\n",
              "    }\n",
              "</style>\n",
              "<table border=\"1\" class=\"dataframe\">\n",
              "  <thead>\n",
              "    <tr style=\"text-align: right;\">\n",
              "      <th></th>\n",
              "      <th>P1</th>\n",
              "      <th>P2</th>\n",
              "      <th>P3</th>\n",
              "      <th>MF</th>\n",
              "      <th>Situação</th>\n",
              "    </tr>\n",
              "  </thead>\n",
              "  <tbody>\n",
              "    <tr>\n",
              "      <th>Alice</th>\n",
              "      <td>7.0</td>\n",
              "      <td>7.5</td>\n",
              "      <td>1.4</td>\n",
              "      <td>5.30</td>\n",
              "      <td>Aprovado</td>\n",
              "    </tr>\n",
              "    <tr>\n",
              "      <th>Bruno</th>\n",
              "      <td>7.0</td>\n",
              "      <td>9.8</td>\n",
              "      <td>9.2</td>\n",
              "      <td>8.67</td>\n",
              "      <td>Aprovado</td>\n",
              "    </tr>\n",
              "    <tr>\n",
              "      <th>Carla</th>\n",
              "      <td>3.6</td>\n",
              "      <td>5.8</td>\n",
              "      <td>1.9</td>\n",
              "      <td>3.77</td>\n",
              "      <td>Reprovado</td>\n",
              "    </tr>\n",
              "    <tr>\n",
              "      <th>David</th>\n",
              "      <td>1.1</td>\n",
              "      <td>4.7</td>\n",
              "      <td>0.2</td>\n",
              "      <td>2.00</td>\n",
              "      <td>Reprovado</td>\n",
              "    </tr>\n",
              "    <tr>\n",
              "      <th>Emily</th>\n",
              "      <td>3.9</td>\n",
              "      <td>0.2</td>\n",
              "      <td>1.7</td>\n",
              "      <td>1.93</td>\n",
              "      <td>Reprovado</td>\n",
              "    </tr>\n",
              "    <tr>\n",
              "      <th>Fabio</th>\n",
              "      <td>6.6</td>\n",
              "      <td>3.6</td>\n",
              "      <td>1.9</td>\n",
              "      <td>4.03</td>\n",
              "      <td>Reprovado</td>\n",
              "    </tr>\n",
              "    <tr>\n",
              "      <th>Gloria</th>\n",
              "      <td>8.5</td>\n",
              "      <td>8.5</td>\n",
              "      <td>3.8</td>\n",
              "      <td>6.93</td>\n",
              "      <td>Aprovado</td>\n",
              "    </tr>\n",
              "    <tr>\n",
              "      <th>Helio</th>\n",
              "      <td>1.6</td>\n",
              "      <td>3.9</td>\n",
              "      <td>7.4</td>\n",
              "      <td>4.30</td>\n",
              "      <td>Reprovado</td>\n",
              "    </tr>\n",
              "    <tr>\n",
              "      <th>Isabela</th>\n",
              "      <td>0.3</td>\n",
              "      <td>9.8</td>\n",
              "      <td>4.5</td>\n",
              "      <td>4.87</td>\n",
              "      <td>Reprovado</td>\n",
              "    </tr>\n",
              "    <tr>\n",
              "      <th>Lucas</th>\n",
              "      <td>7.6</td>\n",
              "      <td>8.0</td>\n",
              "      <td>5.2</td>\n",
              "      <td>6.93</td>\n",
              "      <td>Aprovado</td>\n",
              "    </tr>\n",
              "  </tbody>\n",
              "</table>\n",
              "</div>"
            ],
            "text/plain": [
              "          P1   P2   P3    MF   Situação\n",
              "Alice    7.0  7.5  1.4  5.30   Aprovado\n",
              "Bruno    7.0  9.8  9.2  8.67   Aprovado\n",
              "Carla    3.6  5.8  1.9  3.77  Reprovado\n",
              "David    1.1  4.7  0.2  2.00  Reprovado\n",
              "Emily    3.9  0.2  1.7  1.93  Reprovado\n",
              "Fabio    6.6  3.6  1.9  4.03  Reprovado\n",
              "Gloria   8.5  8.5  3.8  6.93   Aprovado\n",
              "Helio    1.6  3.9  7.4  4.30  Reprovado\n",
              "Isabela  0.3  9.8  4.5  4.87  Reprovado\n",
              "Lucas    7.6  8.0  5.2  6.93   Aprovado"
            ]
          },
          "metadata": {
            "tags": []
          },
          "execution_count": 25
        }
      ]
    },
    {
      "cell_type": "code",
      "metadata": {
        "colab": {
          "base_uri": "https://localhost:8080/"
        },
        "id": "FcXPa0y52FkR",
        "outputId": "fcc841a6-17bd-4ce1-8360-df5256d3e334"
      },
      "source": [
        "sexo = ['F', 'M'] * 5\n",
        "sexo"
      ],
      "execution_count": 26,
      "outputs": [
        {
          "output_type": "execute_result",
          "data": {
            "text/plain": [
              "['F', 'M', 'F', 'M', 'F', 'M', 'F', 'M', 'F', 'M']"
            ]
          },
          "metadata": {
            "tags": []
          },
          "execution_count": 26
        }
      ]
    },
    {
      "cell_type": "code",
      "metadata": {
        "colab": {
          "base_uri": "https://localhost:8080/",
          "height": 359
        },
        "id": "KaGndTd_26rS",
        "outputId": "cfee02ac-653e-4eac-97fb-8f89b1a2b73c"
      },
      "source": [
        "notas['Sexo'] = sexo\n",
        "notas"
      ],
      "execution_count": 27,
      "outputs": [
        {
          "output_type": "execute_result",
          "data": {
            "text/html": [
              "<div>\n",
              "<style scoped>\n",
              "    .dataframe tbody tr th:only-of-type {\n",
              "        vertical-align: middle;\n",
              "    }\n",
              "\n",
              "    .dataframe tbody tr th {\n",
              "        vertical-align: top;\n",
              "    }\n",
              "\n",
              "    .dataframe thead th {\n",
              "        text-align: right;\n",
              "    }\n",
              "</style>\n",
              "<table border=\"1\" class=\"dataframe\">\n",
              "  <thead>\n",
              "    <tr style=\"text-align: right;\">\n",
              "      <th></th>\n",
              "      <th>P1</th>\n",
              "      <th>P2</th>\n",
              "      <th>P3</th>\n",
              "      <th>MF</th>\n",
              "      <th>Situação</th>\n",
              "      <th>Sexo</th>\n",
              "    </tr>\n",
              "  </thead>\n",
              "  <tbody>\n",
              "    <tr>\n",
              "      <th>Alice</th>\n",
              "      <td>7.0</td>\n",
              "      <td>7.5</td>\n",
              "      <td>1.4</td>\n",
              "      <td>5.30</td>\n",
              "      <td>Aprovado</td>\n",
              "      <td>F</td>\n",
              "    </tr>\n",
              "    <tr>\n",
              "      <th>Bruno</th>\n",
              "      <td>7.0</td>\n",
              "      <td>9.8</td>\n",
              "      <td>9.2</td>\n",
              "      <td>8.67</td>\n",
              "      <td>Aprovado</td>\n",
              "      <td>M</td>\n",
              "    </tr>\n",
              "    <tr>\n",
              "      <th>Carla</th>\n",
              "      <td>3.6</td>\n",
              "      <td>5.8</td>\n",
              "      <td>1.9</td>\n",
              "      <td>3.77</td>\n",
              "      <td>Reprovado</td>\n",
              "      <td>F</td>\n",
              "    </tr>\n",
              "    <tr>\n",
              "      <th>David</th>\n",
              "      <td>1.1</td>\n",
              "      <td>4.7</td>\n",
              "      <td>0.2</td>\n",
              "      <td>2.00</td>\n",
              "      <td>Reprovado</td>\n",
              "      <td>M</td>\n",
              "    </tr>\n",
              "    <tr>\n",
              "      <th>Emily</th>\n",
              "      <td>3.9</td>\n",
              "      <td>0.2</td>\n",
              "      <td>1.7</td>\n",
              "      <td>1.93</td>\n",
              "      <td>Reprovado</td>\n",
              "      <td>F</td>\n",
              "    </tr>\n",
              "    <tr>\n",
              "      <th>Fabio</th>\n",
              "      <td>6.6</td>\n",
              "      <td>3.6</td>\n",
              "      <td>1.9</td>\n",
              "      <td>4.03</td>\n",
              "      <td>Reprovado</td>\n",
              "      <td>M</td>\n",
              "    </tr>\n",
              "    <tr>\n",
              "      <th>Gloria</th>\n",
              "      <td>8.5</td>\n",
              "      <td>8.5</td>\n",
              "      <td>3.8</td>\n",
              "      <td>6.93</td>\n",
              "      <td>Aprovado</td>\n",
              "      <td>F</td>\n",
              "    </tr>\n",
              "    <tr>\n",
              "      <th>Helio</th>\n",
              "      <td>1.6</td>\n",
              "      <td>3.9</td>\n",
              "      <td>7.4</td>\n",
              "      <td>4.30</td>\n",
              "      <td>Reprovado</td>\n",
              "      <td>M</td>\n",
              "    </tr>\n",
              "    <tr>\n",
              "      <th>Isabela</th>\n",
              "      <td>0.3</td>\n",
              "      <td>9.8</td>\n",
              "      <td>4.5</td>\n",
              "      <td>4.87</td>\n",
              "      <td>Reprovado</td>\n",
              "      <td>F</td>\n",
              "    </tr>\n",
              "    <tr>\n",
              "      <th>Lucas</th>\n",
              "      <td>7.6</td>\n",
              "      <td>8.0</td>\n",
              "      <td>5.2</td>\n",
              "      <td>6.93</td>\n",
              "      <td>Aprovado</td>\n",
              "      <td>M</td>\n",
              "    </tr>\n",
              "  </tbody>\n",
              "</table>\n",
              "</div>"
            ],
            "text/plain": [
              "          P1   P2   P3    MF   Situação Sexo\n",
              "Alice    7.0  7.5  1.4  5.30   Aprovado    F\n",
              "Bruno    7.0  9.8  9.2  8.67   Aprovado    M\n",
              "Carla    3.6  5.8  1.9  3.77  Reprovado    F\n",
              "David    1.1  4.7  0.2  2.00  Reprovado    M\n",
              "Emily    3.9  0.2  1.7  1.93  Reprovado    F\n",
              "Fabio    6.6  3.6  1.9  4.03  Reprovado    M\n",
              "Gloria   8.5  8.5  3.8  6.93   Aprovado    F\n",
              "Helio    1.6  3.9  7.4  4.30  Reprovado    M\n",
              "Isabela  0.3  9.8  4.5  4.87  Reprovado    F\n",
              "Lucas    7.6  8.0  5.2  6.93   Aprovado    M"
            ]
          },
          "metadata": {
            "tags": []
          },
          "execution_count": 27
        }
      ]
    },
    {
      "cell_type": "code",
      "metadata": {
        "colab": {
          "base_uri": "https://localhost:8080/",
          "height": 359
        },
        "id": "JiudleF93EB5",
        "outputId": "845dee29-7e5b-44bc-8b5a-3689fef347e8"
      },
      "source": [
        "notas.sort_values(by = 'MF', ascending = False)"
      ],
      "execution_count": 28,
      "outputs": [
        {
          "output_type": "execute_result",
          "data": {
            "text/html": [
              "<div>\n",
              "<style scoped>\n",
              "    .dataframe tbody tr th:only-of-type {\n",
              "        vertical-align: middle;\n",
              "    }\n",
              "\n",
              "    .dataframe tbody tr th {\n",
              "        vertical-align: top;\n",
              "    }\n",
              "\n",
              "    .dataframe thead th {\n",
              "        text-align: right;\n",
              "    }\n",
              "</style>\n",
              "<table border=\"1\" class=\"dataframe\">\n",
              "  <thead>\n",
              "    <tr style=\"text-align: right;\">\n",
              "      <th></th>\n",
              "      <th>P1</th>\n",
              "      <th>P2</th>\n",
              "      <th>P3</th>\n",
              "      <th>MF</th>\n",
              "      <th>Situação</th>\n",
              "      <th>Sexo</th>\n",
              "    </tr>\n",
              "  </thead>\n",
              "  <tbody>\n",
              "    <tr>\n",
              "      <th>Bruno</th>\n",
              "      <td>7.0</td>\n",
              "      <td>9.8</td>\n",
              "      <td>9.2</td>\n",
              "      <td>8.67</td>\n",
              "      <td>Aprovado</td>\n",
              "      <td>M</td>\n",
              "    </tr>\n",
              "    <tr>\n",
              "      <th>Gloria</th>\n",
              "      <td>8.5</td>\n",
              "      <td>8.5</td>\n",
              "      <td>3.8</td>\n",
              "      <td>6.93</td>\n",
              "      <td>Aprovado</td>\n",
              "      <td>F</td>\n",
              "    </tr>\n",
              "    <tr>\n",
              "      <th>Lucas</th>\n",
              "      <td>7.6</td>\n",
              "      <td>8.0</td>\n",
              "      <td>5.2</td>\n",
              "      <td>6.93</td>\n",
              "      <td>Aprovado</td>\n",
              "      <td>M</td>\n",
              "    </tr>\n",
              "    <tr>\n",
              "      <th>Alice</th>\n",
              "      <td>7.0</td>\n",
              "      <td>7.5</td>\n",
              "      <td>1.4</td>\n",
              "      <td>5.30</td>\n",
              "      <td>Aprovado</td>\n",
              "      <td>F</td>\n",
              "    </tr>\n",
              "    <tr>\n",
              "      <th>Isabela</th>\n",
              "      <td>0.3</td>\n",
              "      <td>9.8</td>\n",
              "      <td>4.5</td>\n",
              "      <td>4.87</td>\n",
              "      <td>Reprovado</td>\n",
              "      <td>F</td>\n",
              "    </tr>\n",
              "    <tr>\n",
              "      <th>Helio</th>\n",
              "      <td>1.6</td>\n",
              "      <td>3.9</td>\n",
              "      <td>7.4</td>\n",
              "      <td>4.30</td>\n",
              "      <td>Reprovado</td>\n",
              "      <td>M</td>\n",
              "    </tr>\n",
              "    <tr>\n",
              "      <th>Fabio</th>\n",
              "      <td>6.6</td>\n",
              "      <td>3.6</td>\n",
              "      <td>1.9</td>\n",
              "      <td>4.03</td>\n",
              "      <td>Reprovado</td>\n",
              "      <td>M</td>\n",
              "    </tr>\n",
              "    <tr>\n",
              "      <th>Carla</th>\n",
              "      <td>3.6</td>\n",
              "      <td>5.8</td>\n",
              "      <td>1.9</td>\n",
              "      <td>3.77</td>\n",
              "      <td>Reprovado</td>\n",
              "      <td>F</td>\n",
              "    </tr>\n",
              "    <tr>\n",
              "      <th>David</th>\n",
              "      <td>1.1</td>\n",
              "      <td>4.7</td>\n",
              "      <td>0.2</td>\n",
              "      <td>2.00</td>\n",
              "      <td>Reprovado</td>\n",
              "      <td>M</td>\n",
              "    </tr>\n",
              "    <tr>\n",
              "      <th>Emily</th>\n",
              "      <td>3.9</td>\n",
              "      <td>0.2</td>\n",
              "      <td>1.7</td>\n",
              "      <td>1.93</td>\n",
              "      <td>Reprovado</td>\n",
              "      <td>F</td>\n",
              "    </tr>\n",
              "  </tbody>\n",
              "</table>\n",
              "</div>"
            ],
            "text/plain": [
              "          P1   P2   P3    MF   Situação Sexo\n",
              "Bruno    7.0  9.8  9.2  8.67   Aprovado    M\n",
              "Gloria   8.5  8.5  3.8  6.93   Aprovado    F\n",
              "Lucas    7.6  8.0  5.2  6.93   Aprovado    M\n",
              "Alice    7.0  7.5  1.4  5.30   Aprovado    F\n",
              "Isabela  0.3  9.8  4.5  4.87  Reprovado    F\n",
              "Helio    1.6  3.9  7.4  4.30  Reprovado    M\n",
              "Fabio    6.6  3.6  1.9  4.03  Reprovado    M\n",
              "Carla    3.6  5.8  1.9  3.77  Reprovado    F\n",
              "David    1.1  4.7  0.2  2.00  Reprovado    M\n",
              "Emily    3.9  0.2  1.7  1.93  Reprovado    F"
            ]
          },
          "metadata": {
            "tags": []
          },
          "execution_count": 28
        }
      ]
    },
    {
      "cell_type": "code",
      "metadata": {
        "colab": {
          "base_uri": "https://localhost:8080/"
        },
        "id": "gg7vQ94u3YuV",
        "outputId": "c8e05208-5760-40d3-9f0b-6aa9a767790e"
      },
      "source": [
        "notas['Situação'] == 'Aprovado'"
      ],
      "execution_count": 29,
      "outputs": [
        {
          "output_type": "execute_result",
          "data": {
            "text/plain": [
              "Alice       True\n",
              "Bruno       True\n",
              "Carla      False\n",
              "David      False\n",
              "Emily      False\n",
              "Fabio      False\n",
              "Gloria      True\n",
              "Helio      False\n",
              "Isabela    False\n",
              "Lucas       True\n",
              "Name: Situação, dtype: bool"
            ]
          },
          "metadata": {
            "tags": []
          },
          "execution_count": 29
        }
      ]
    },
    {
      "cell_type": "code",
      "metadata": {
        "colab": {
          "base_uri": "https://localhost:8080/"
        },
        "id": "_tQ9czQx34vE",
        "outputId": "cd8f50c5-7365-48c7-ae7e-45dc3e34ddc0"
      },
      "source": [
        "round(notas[notas['Situação'] == 'Aprovado']['MF'].mean(), 2)"
      ],
      "execution_count": 31,
      "outputs": [
        {
          "output_type": "execute_result",
          "data": {
            "text/plain": [
              "6.96"
            ]
          },
          "metadata": {
            "tags": []
          },
          "execution_count": 31
        }
      ]
    },
    {
      "cell_type": "code",
      "metadata": {
        "colab": {
          "base_uri": "https://localhost:8080/"
        },
        "id": "yl4Su3Gp4DSY",
        "outputId": "f1ee80d0-3369-41b6-8037-9ae4f1a5a7f9"
      },
      "source": [
        "round(notas[notas['Situação'] == 'Reprovado']['MF'].mean(), 2)"
      ],
      "execution_count": 33,
      "outputs": [
        {
          "output_type": "execute_result",
          "data": {
            "text/plain": [
              "3.48"
            ]
          },
          "metadata": {
            "tags": []
          },
          "execution_count": 33
        }
      ]
    },
    {
      "cell_type": "code",
      "metadata": {
        "colab": {
          "base_uri": "https://localhost:8080/",
          "height": 142
        },
        "id": "GkdLhKDe4cWw",
        "outputId": "107ab1d6-6719-4356-d6db-07fa23391294"
      },
      "source": [
        "notas.groupby(notas['Situação']).mean().round(2)"
      ],
      "execution_count": 34,
      "outputs": [
        {
          "output_type": "execute_result",
          "data": {
            "text/html": [
              "<div>\n",
              "<style scoped>\n",
              "    .dataframe tbody tr th:only-of-type {\n",
              "        vertical-align: middle;\n",
              "    }\n",
              "\n",
              "    .dataframe tbody tr th {\n",
              "        vertical-align: top;\n",
              "    }\n",
              "\n",
              "    .dataframe thead th {\n",
              "        text-align: right;\n",
              "    }\n",
              "</style>\n",
              "<table border=\"1\" class=\"dataframe\">\n",
              "  <thead>\n",
              "    <tr style=\"text-align: right;\">\n",
              "      <th></th>\n",
              "      <th>P1</th>\n",
              "      <th>P2</th>\n",
              "      <th>P3</th>\n",
              "      <th>MF</th>\n",
              "    </tr>\n",
              "    <tr>\n",
              "      <th>Situação</th>\n",
              "      <th></th>\n",
              "      <th></th>\n",
              "      <th></th>\n",
              "      <th></th>\n",
              "    </tr>\n",
              "  </thead>\n",
              "  <tbody>\n",
              "    <tr>\n",
              "      <th>Aprovado</th>\n",
              "      <td>7.52</td>\n",
              "      <td>8.45</td>\n",
              "      <td>4.90</td>\n",
              "      <td>6.96</td>\n",
              "    </tr>\n",
              "    <tr>\n",
              "      <th>Reprovado</th>\n",
              "      <td>2.85</td>\n",
              "      <td>4.67</td>\n",
              "      <td>2.93</td>\n",
              "      <td>3.48</td>\n",
              "    </tr>\n",
              "  </tbody>\n",
              "</table>\n",
              "</div>"
            ],
            "text/plain": [
              "             P1    P2    P3    MF\n",
              "Situação                         \n",
              "Aprovado   7.52  8.45  4.90  6.96\n",
              "Reprovado  2.85  4.67  2.93  3.48"
            ]
          },
          "metadata": {
            "tags": []
          },
          "execution_count": 34
        }
      ]
    },
    {
      "cell_type": "code",
      "metadata": {
        "colab": {
          "base_uri": "https://localhost:8080/",
          "height": 173
        },
        "id": "4haU2QAD4s9r",
        "outputId": "1b1ad60e-db51-488b-d4a1-3cb666cbaf65"
      },
      "source": [
        "notas.groupby(notas['Sexo']).describe().round(2)"
      ],
      "execution_count": 35,
      "outputs": [
        {
          "output_type": "execute_result",
          "data": {
            "text/html": [
              "<div>\n",
              "<style scoped>\n",
              "    .dataframe tbody tr th:only-of-type {\n",
              "        vertical-align: middle;\n",
              "    }\n",
              "\n",
              "    .dataframe tbody tr th {\n",
              "        vertical-align: top;\n",
              "    }\n",
              "\n",
              "    .dataframe thead tr th {\n",
              "        text-align: left;\n",
              "    }\n",
              "\n",
              "    .dataframe thead tr:last-of-type th {\n",
              "        text-align: right;\n",
              "    }\n",
              "</style>\n",
              "<table border=\"1\" class=\"dataframe\">\n",
              "  <thead>\n",
              "    <tr>\n",
              "      <th></th>\n",
              "      <th colspan=\"8\" halign=\"left\">P1</th>\n",
              "      <th colspan=\"8\" halign=\"left\">P2</th>\n",
              "      <th colspan=\"8\" halign=\"left\">P3</th>\n",
              "      <th colspan=\"8\" halign=\"left\">MF</th>\n",
              "    </tr>\n",
              "    <tr>\n",
              "      <th></th>\n",
              "      <th>count</th>\n",
              "      <th>mean</th>\n",
              "      <th>std</th>\n",
              "      <th>min</th>\n",
              "      <th>25%</th>\n",
              "      <th>50%</th>\n",
              "      <th>75%</th>\n",
              "      <th>max</th>\n",
              "      <th>count</th>\n",
              "      <th>mean</th>\n",
              "      <th>std</th>\n",
              "      <th>min</th>\n",
              "      <th>25%</th>\n",
              "      <th>50%</th>\n",
              "      <th>75%</th>\n",
              "      <th>max</th>\n",
              "      <th>count</th>\n",
              "      <th>mean</th>\n",
              "      <th>std</th>\n",
              "      <th>min</th>\n",
              "      <th>25%</th>\n",
              "      <th>50%</th>\n",
              "      <th>75%</th>\n",
              "      <th>max</th>\n",
              "      <th>count</th>\n",
              "      <th>mean</th>\n",
              "      <th>std</th>\n",
              "      <th>min</th>\n",
              "      <th>25%</th>\n",
              "      <th>50%</th>\n",
              "      <th>75%</th>\n",
              "      <th>max</th>\n",
              "    </tr>\n",
              "    <tr>\n",
              "      <th>Sexo</th>\n",
              "      <th></th>\n",
              "      <th></th>\n",
              "      <th></th>\n",
              "      <th></th>\n",
              "      <th></th>\n",
              "      <th></th>\n",
              "      <th></th>\n",
              "      <th></th>\n",
              "      <th></th>\n",
              "      <th></th>\n",
              "      <th></th>\n",
              "      <th></th>\n",
              "      <th></th>\n",
              "      <th></th>\n",
              "      <th></th>\n",
              "      <th></th>\n",
              "      <th></th>\n",
              "      <th></th>\n",
              "      <th></th>\n",
              "      <th></th>\n",
              "      <th></th>\n",
              "      <th></th>\n",
              "      <th></th>\n",
              "      <th></th>\n",
              "      <th></th>\n",
              "      <th></th>\n",
              "      <th></th>\n",
              "      <th></th>\n",
              "      <th></th>\n",
              "      <th></th>\n",
              "      <th></th>\n",
              "      <th></th>\n",
              "    </tr>\n",
              "  </thead>\n",
              "  <tbody>\n",
              "    <tr>\n",
              "      <th>F</th>\n",
              "      <td>5.0</td>\n",
              "      <td>4.66</td>\n",
              "      <td>3.20</td>\n",
              "      <td>0.3</td>\n",
              "      <td>3.6</td>\n",
              "      <td>3.9</td>\n",
              "      <td>7.0</td>\n",
              "      <td>8.5</td>\n",
              "      <td>5.0</td>\n",
              "      <td>6.36</td>\n",
              "      <td>3.74</td>\n",
              "      <td>0.2</td>\n",
              "      <td>5.8</td>\n",
              "      <td>7.5</td>\n",
              "      <td>8.5</td>\n",
              "      <td>9.8</td>\n",
              "      <td>5.0</td>\n",
              "      <td>2.66</td>\n",
              "      <td>1.39</td>\n",
              "      <td>1.4</td>\n",
              "      <td>1.7</td>\n",
              "      <td>1.9</td>\n",
              "      <td>3.8</td>\n",
              "      <td>4.5</td>\n",
              "      <td>5.0</td>\n",
              "      <td>4.56</td>\n",
              "      <td>1.86</td>\n",
              "      <td>1.93</td>\n",
              "      <td>3.77</td>\n",
              "      <td>4.87</td>\n",
              "      <td>5.30</td>\n",
              "      <td>6.93</td>\n",
              "    </tr>\n",
              "    <tr>\n",
              "      <th>M</th>\n",
              "      <td>5.0</td>\n",
              "      <td>4.78</td>\n",
              "      <td>3.16</td>\n",
              "      <td>1.1</td>\n",
              "      <td>1.6</td>\n",
              "      <td>6.6</td>\n",
              "      <td>7.0</td>\n",
              "      <td>7.6</td>\n",
              "      <td>5.0</td>\n",
              "      <td>6.00</td>\n",
              "      <td>2.75</td>\n",
              "      <td>3.6</td>\n",
              "      <td>3.9</td>\n",
              "      <td>4.7</td>\n",
              "      <td>8.0</td>\n",
              "      <td>9.8</td>\n",
              "      <td>5.0</td>\n",
              "      <td>4.78</td>\n",
              "      <td>3.74</td>\n",
              "      <td>0.2</td>\n",
              "      <td>1.9</td>\n",
              "      <td>5.2</td>\n",
              "      <td>7.4</td>\n",
              "      <td>9.2</td>\n",
              "      <td>5.0</td>\n",
              "      <td>5.19</td>\n",
              "      <td>2.62</td>\n",
              "      <td>2.00</td>\n",
              "      <td>4.03</td>\n",
              "      <td>4.30</td>\n",
              "      <td>6.93</td>\n",
              "      <td>8.67</td>\n",
              "    </tr>\n",
              "  </tbody>\n",
              "</table>\n",
              "</div>"
            ],
            "text/plain": [
              "        P1                             ...    MF                              \n",
              "     count  mean   std  min  25%  50%  ...   std   min   25%   50%   75%   max\n",
              "Sexo                                   ...                                    \n",
              "F      5.0  4.66  3.20  0.3  3.6  3.9  ...  1.86  1.93  3.77  4.87  5.30  6.93\n",
              "M      5.0  4.78  3.16  1.1  1.6  6.6  ...  2.62  2.00  4.03  4.30  6.93  8.67\n",
              "\n",
              "[2 rows x 32 columns]"
            ]
          },
          "metadata": {
            "tags": []
          },
          "execution_count": 35
        }
      ]
    },
    {
      "cell_type": "code",
      "metadata": {
        "colab": {
          "base_uri": "https://localhost:8080/",
          "height": 359
        },
        "id": "snkacrnaDREo",
        "outputId": "b26d12b9-dc82-4a40-e3d6-061d25091f1d"
      },
      "source": [
        "notas"
      ],
      "execution_count": 36,
      "outputs": [
        {
          "output_type": "execute_result",
          "data": {
            "text/html": [
              "<div>\n",
              "<style scoped>\n",
              "    .dataframe tbody tr th:only-of-type {\n",
              "        vertical-align: middle;\n",
              "    }\n",
              "\n",
              "    .dataframe tbody tr th {\n",
              "        vertical-align: top;\n",
              "    }\n",
              "\n",
              "    .dataframe thead th {\n",
              "        text-align: right;\n",
              "    }\n",
              "</style>\n",
              "<table border=\"1\" class=\"dataframe\">\n",
              "  <thead>\n",
              "    <tr style=\"text-align: right;\">\n",
              "      <th></th>\n",
              "      <th>P1</th>\n",
              "      <th>P2</th>\n",
              "      <th>P3</th>\n",
              "      <th>MF</th>\n",
              "      <th>Situação</th>\n",
              "      <th>Sexo</th>\n",
              "    </tr>\n",
              "  </thead>\n",
              "  <tbody>\n",
              "    <tr>\n",
              "      <th>Alice</th>\n",
              "      <td>7.0</td>\n",
              "      <td>7.5</td>\n",
              "      <td>1.4</td>\n",
              "      <td>5.30</td>\n",
              "      <td>Aprovado</td>\n",
              "      <td>F</td>\n",
              "    </tr>\n",
              "    <tr>\n",
              "      <th>Bruno</th>\n",
              "      <td>7.0</td>\n",
              "      <td>9.8</td>\n",
              "      <td>9.2</td>\n",
              "      <td>8.67</td>\n",
              "      <td>Aprovado</td>\n",
              "      <td>M</td>\n",
              "    </tr>\n",
              "    <tr>\n",
              "      <th>Carla</th>\n",
              "      <td>3.6</td>\n",
              "      <td>5.8</td>\n",
              "      <td>1.9</td>\n",
              "      <td>3.77</td>\n",
              "      <td>Reprovado</td>\n",
              "      <td>F</td>\n",
              "    </tr>\n",
              "    <tr>\n",
              "      <th>David</th>\n",
              "      <td>1.1</td>\n",
              "      <td>4.7</td>\n",
              "      <td>0.2</td>\n",
              "      <td>2.00</td>\n",
              "      <td>Reprovado</td>\n",
              "      <td>M</td>\n",
              "    </tr>\n",
              "    <tr>\n",
              "      <th>Emily</th>\n",
              "      <td>3.9</td>\n",
              "      <td>0.2</td>\n",
              "      <td>1.7</td>\n",
              "      <td>1.93</td>\n",
              "      <td>Reprovado</td>\n",
              "      <td>F</td>\n",
              "    </tr>\n",
              "    <tr>\n",
              "      <th>Fabio</th>\n",
              "      <td>6.6</td>\n",
              "      <td>3.6</td>\n",
              "      <td>1.9</td>\n",
              "      <td>4.03</td>\n",
              "      <td>Reprovado</td>\n",
              "      <td>M</td>\n",
              "    </tr>\n",
              "    <tr>\n",
              "      <th>Gloria</th>\n",
              "      <td>8.5</td>\n",
              "      <td>8.5</td>\n",
              "      <td>3.8</td>\n",
              "      <td>6.93</td>\n",
              "      <td>Aprovado</td>\n",
              "      <td>F</td>\n",
              "    </tr>\n",
              "    <tr>\n",
              "      <th>Helio</th>\n",
              "      <td>1.6</td>\n",
              "      <td>3.9</td>\n",
              "      <td>7.4</td>\n",
              "      <td>4.30</td>\n",
              "      <td>Reprovado</td>\n",
              "      <td>M</td>\n",
              "    </tr>\n",
              "    <tr>\n",
              "      <th>Isabela</th>\n",
              "      <td>0.3</td>\n",
              "      <td>9.8</td>\n",
              "      <td>4.5</td>\n",
              "      <td>4.87</td>\n",
              "      <td>Reprovado</td>\n",
              "      <td>F</td>\n",
              "    </tr>\n",
              "    <tr>\n",
              "      <th>Lucas</th>\n",
              "      <td>7.6</td>\n",
              "      <td>8.0</td>\n",
              "      <td>5.2</td>\n",
              "      <td>6.93</td>\n",
              "      <td>Aprovado</td>\n",
              "      <td>M</td>\n",
              "    </tr>\n",
              "  </tbody>\n",
              "</table>\n",
              "</div>"
            ],
            "text/plain": [
              "          P1   P2   P3    MF   Situação Sexo\n",
              "Alice    7.0  7.5  1.4  5.30   Aprovado    F\n",
              "Bruno    7.0  9.8  9.2  8.67   Aprovado    M\n",
              "Carla    3.6  5.8  1.9  3.77  Reprovado    F\n",
              "David    1.1  4.7  0.2  2.00  Reprovado    M\n",
              "Emily    3.9  0.2  1.7  1.93  Reprovado    F\n",
              "Fabio    6.6  3.6  1.9  4.03  Reprovado    M\n",
              "Gloria   8.5  8.5  3.8  6.93   Aprovado    F\n",
              "Helio    1.6  3.9  7.4  4.30  Reprovado    M\n",
              "Isabela  0.3  9.8  4.5  4.87  Reprovado    F\n",
              "Lucas    7.6  8.0  5.2  6.93   Aprovado    M"
            ]
          },
          "metadata": {
            "tags": []
          },
          "execution_count": 36
        }
      ]
    },
    {
      "cell_type": "code",
      "metadata": {
        "colab": {
          "base_uri": "https://localhost:8080/",
          "height": 282
        },
        "id": "dpNQqbON5F9M",
        "outputId": "5e74b809-b4df-48fb-8bd7-546997d9615f"
      },
      "source": [
        "notas['MF'].plot(kind = 'hist')"
      ],
      "execution_count": 37,
      "outputs": [
        {
          "output_type": "execute_result",
          "data": {
            "text/plain": [
              "<matplotlib.axes._subplots.AxesSubplot at 0x7f0e06dea668>"
            ]
          },
          "metadata": {
            "tags": []
          },
          "execution_count": 37
        },
        {
          "output_type": "display_data",
          "data": {
            "image/png": "[encoded data removed]",
            "text/plain": [
              "<Figure size 432x288 with 1 Axes>"
            ]
          },
          "metadata": {
            "tags": [],
            "needs_background": "light"
          }
        }
      ]
    },
    {
      "cell_type": "code",
      "metadata": {
        "colab": {
          "base_uri": "https://localhost:8080/",
          "height": 265
        },
        "id": "zFa6pts-CjF0",
        "outputId": "00d3f58b-6bad-4622-df37-c99c7c9a09c2"
      },
      "source": [
        "notas['Sexo'].value_counts().plot(kind = 'pie')"
      ],
      "execution_count": 38,
      "outputs": [
        {
          "output_type": "execute_result",
          "data": {
            "text/plain": [
              "<matplotlib.axes._subplots.AxesSubplot at 0x7f0e06d5dcf8>"
            ]
          },
          "metadata": {
            "tags": []
          },
          "execution_count": 38
        },
        {
          "output_type": "display_data",
          "data": {
            "image/png": "[encoded data removed]",
            "text/plain": [
              "<Figure size 432x288 with 1 Axes>"
            ]
          },
          "metadata": {
            "tags": []
          }
        }
      ]
    },
    {
      "cell_type": "code",
      "metadata": {
        "colab": {
          "base_uri": "https://localhost:8080/",
          "height": 282
        },
        "id": "hoNEiOTXDLmy",
        "outputId": "b76d76c1-6162-4612-8f5e-3eafcf71641b"
      },
      "source": [
        "notas['Situação'].value_counts().plot(kind = 'barh')"
      ],
      "execution_count": 39,
      "outputs": [
        {
          "output_type": "execute_result",
          "data": {
            "text/plain": [
              "<matplotlib.axes._subplots.AxesSubplot at 0x7f0e0563b780>"
            ]
          },
          "metadata": {
            "tags": []
          },
          "execution_count": 39
        },
        {
          "output_type": "display_data",
          "data": {
            "image/png": "[encoded data removed]",
            "text/plain": [
              "<Figure size 432x288 with 1 Axes>"
            ]
          },
          "metadata": {
            "tags": [],
            "needs_background": "light"
          }
        }
      ]
    },
    {
      "cell_type": "code",
      "metadata": {
        "colab": {
          "base_uri": "https://localhost:8080/",
          "height": 282
        },
        "id": "q8pzTr55DXXi",
        "outputId": "c8d958c3-d833-4ca7-cd12-e08303db3ea4"
      },
      "source": [
        "notas.plot(kind = 'box')"
      ],
      "execution_count": 40,
      "outputs": [
        {
          "output_type": "execute_result",
          "data": {
            "text/plain": [
              "<matplotlib.axes._subplots.AxesSubplot at 0x7f0e055b0390>"
            ]
          },
          "metadata": {
            "tags": []
          },
          "execution_count": 40
        },
        {
          "output_type": "display_data",
          "data": {
            "image/png": "[encoded data removed]",
            "text/plain": [
              "<Figure size 432x288 with 1 Axes>"
            ]
          },
          "metadata": {
            "tags": [],
            "needs_background": "light"
          }
        }
      ]
    },
    {
      "cell_type": "code",
      "metadata": {
        "id": "n6zsKjceDiUA",
        "colab": {
          "base_uri": "https://localhost:8080/",
          "height": 282
        },
        "outputId": "6104010d-6fe6-4364-a327-d7069690baf7"
      },
      "source": [
        "notas.plot(kind = 'line')"
      ],
      "execution_count": 41,
      "outputs": [
        {
          "output_type": "execute_result",
          "data": {
            "text/plain": [
              "<matplotlib.axes._subplots.AxesSubplot at 0x7f0e0554b860>"
            ]
          },
          "metadata": {
            "tags": []
          },
          "execution_count": 41
        },
        {
          "output_type": "display_data",
          "data": {
            "image/png": "[encoded data removed]",
            "text/plain": [
              "<Figure size 432x288 with 1 Axes>"
            ]
          },
          "metadata": {
            "tags": [],
            "needs_background": "light"
          }
        }
      ]
    },
    {
      "cell_type": "code",
      "metadata": {
        "colab": {
          "base_uri": "https://localhost:8080/"
        },
        "id": "206OSHm_EWyF",
        "outputId": "ededbb05-bfd6-426e-9f04-3551bfa620b2"
      },
      "source": [
        "notas.iloc[1,1:3]"
      ],
      "execution_count": 42,
      "outputs": [
        {
          "output_type": "execute_result",
          "data": {
            "text/plain": [
              "P2    9.8\n",
              "P3    9.2\n",
              "Name: Bruno, dtype: object"
            ]
          },
          "metadata": {
            "tags": []
          },
          "execution_count": 42
        }
      ]
    },
    {
      "cell_type": "code",
      "metadata": {
        "colab": {
          "base_uri": "https://localhost:8080/"
        },
        "id": "g4bKE1jhFjrq",
        "outputId": "c3ab2288-504a-4b11-debc-495e48bd7f43"
      },
      "source": [
        "notas[notas['P1'] > 3] ['Sexo']"
      ],
      "execution_count": 43,
      "outputs": [
        {
          "output_type": "execute_result",
          "data": {
            "text/plain": [
              "Alice     F\n",
              "Bruno     M\n",
              "Carla     F\n",
              "Emily     F\n",
              "Fabio     M\n",
              "Gloria    F\n",
              "Lucas     M\n",
              "Name: Sexo, dtype: object"
            ]
          },
          "metadata": {
            "tags": []
          },
          "execution_count": 43
        }
      ]
    },
    {
      "cell_type": "code",
      "metadata": {
        "colab": {
          "base_uri": "https://localhost:8080/",
          "height": 266
        },
        "id": "Vg_OgoQVF-u9",
        "outputId": "542330dd-c9b6-46e2-90dd-dabd875cae4d"
      },
      "source": [
        "notas.loc[ notas['P1'] > 3, ['P2', 'P3'] ]"
      ],
      "execution_count": 44,
      "outputs": [
        {
          "output_type": "execute_result",
          "data": {
            "text/html": [
              "<div>\n",
              "<style scoped>\n",
              "    .dataframe tbody tr th:only-of-type {\n",
              "        vertical-align: middle;\n",
              "    }\n",
              "\n",
              "    .dataframe tbody tr th {\n",
              "        vertical-align: top;\n",
              "    }\n",
              "\n",
              "    .dataframe thead th {\n",
              "        text-align: right;\n",
              "    }\n",
              "</style>\n",
              "<table border=\"1\" class=\"dataframe\">\n",
              "  <thead>\n",
              "    <tr style=\"text-align: right;\">\n",
              "      <th></th>\n",
              "      <th>P2</th>\n",
              "      <th>P3</th>\n",
              "    </tr>\n",
              "  </thead>\n",
              "  <tbody>\n",
              "    <tr>\n",
              "      <th>Alice</th>\n",
              "      <td>7.5</td>\n",
              "      <td>1.4</td>\n",
              "    </tr>\n",
              "    <tr>\n",
              "      <th>Bruno</th>\n",
              "      <td>9.8</td>\n",
              "      <td>9.2</td>\n",
              "    </tr>\n",
              "    <tr>\n",
              "      <th>Carla</th>\n",
              "      <td>5.8</td>\n",
              "      <td>1.9</td>\n",
              "    </tr>\n",
              "    <tr>\n",
              "      <th>Emily</th>\n",
              "      <td>0.2</td>\n",
              "      <td>1.7</td>\n",
              "    </tr>\n",
              "    <tr>\n",
              "      <th>Fabio</th>\n",
              "      <td>3.6</td>\n",
              "      <td>1.9</td>\n",
              "    </tr>\n",
              "    <tr>\n",
              "      <th>Gloria</th>\n",
              "      <td>8.5</td>\n",
              "      <td>3.8</td>\n",
              "    </tr>\n",
              "    <tr>\n",
              "      <th>Lucas</th>\n",
              "      <td>8.0</td>\n",
              "      <td>5.2</td>\n",
              "    </tr>\n",
              "  </tbody>\n",
              "</table>\n",
              "</div>"
            ],
            "text/plain": [
              "         P2   P3\n",
              "Alice   7.5  1.4\n",
              "Bruno   9.8  9.2\n",
              "Carla   5.8  1.9\n",
              "Emily   0.2  1.7\n",
              "Fabio   3.6  1.9\n",
              "Gloria  8.5  3.8\n",
              "Lucas   8.0  5.2"
            ]
          },
          "metadata": {
            "tags": []
          },
          "execution_count": 44
        }
      ]
    },
    {
      "cell_type": "code",
      "metadata": {
        "id": "0jRHqr13Gc-B"
      },
      "source": [
        "notas.to_csv('notas.csv')"
      ],
      "execution_count": 45,
      "outputs": []
    }
  ]
}